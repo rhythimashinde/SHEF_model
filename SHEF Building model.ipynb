{
 "cells": [
  {
   "cell_type": "markdown",
   "metadata": {},
   "source": [
    "# SHEF environmental footprint model\n",
    "\n",
    "The following script calculates the environmental footprint of apartments (also called, dwellings) and occupants (also called, tenants or households) of the apartments for specific buildings owned by the <a href=http://www.nrp73.ch/en/projects/building-construction/ecological-footprint-in-the-housing-sector>Shrinking Housing Environmental Footprint</a> (SHEF, under <a href=http://www.snf.ch/en/researchinFocus/nrp/nfp-73/Pages/default.aspx>NRP73: Sustainable Economy</a>) project building-owner partners: <a href=https://www.abz.ch/>ABZ</a>, <a href=https://www.mobiliar.ch/>Swiss Mobiliar</a> and <a href=https://www.schl.ch/>SCHL</a>. \n",
    "\n",
    "_Input_: Data from HBS (<a href = https://www.bfs.admin.ch/bfs/en/home/statistics/economic-social-situation-population/surveys/hbs.html>obtain from Federal Statistical Office of Switzerland</a>) and STATPOP (census) - linked to limited GWR (from <a href='https://www.bfs.admin.ch/bfs/en/home/registers/federal-register-buildings-dwellings.html'>Federal register of buildings</a>) SHEF partner buildings\n",
    "\n",
    "_Run_: The Jupyter Notebook provides a step-by-step guidance to do the computations\n",
    "\n",
    "_Output_: One CSV with extended columns (to input file) with occupant and associated apartment (heating and material) footprints \n",
    "\n",
    "TOC - overview image below:<a id=\"toc-main\"></a>\n",
    "- <a href=\"#abm\"> Step 0: Initialising with HBS, STATPOP and GWR tenant-dwelling pairs</a>\n",
    "- <a href=\"#consumption\"> Step 1: Calculation of occupants' consumption-based footprint</a>\n",
    "- <a href=\"#material\"> Step 2: Calculation of apartments' material and renovation based footprint</a>\n",
    "- <a href=\"#energy\"> Step 3: Calculation of apartments' energy(heat/ warmwater)-based footprint</a>\n",
    "- <a href=\"#total_impacts\"> Step 4: Merge all the final results </a>\n",
    "\n",
    "Author: Rhythima Shinde, ETH Zurich\n"
   ]
  },
  {
   "cell_type": "markdown",
   "metadata": {},
   "source": [
    "<img src=\"plan/datapipeline-2.PNG\">"
   ]
  },
  {
   "cell_type": "markdown",
   "metadata": {},
   "source": [
    "## 0. Initialisation: output of ABMs  <a id=\"abm\"></a>\n",
    "\n",
    "<a href=\"#toc-main\">back</a>\n",
    "\n",
    "In this section, the outputs from following the ABMs are prepared in a format to be passed as input in the respective models \n",
    "1. Tenant ABM output (household information) for Consumption footrprint\n",
    "2. Owner ABM output (building information) for Apartment footprint"
   ]
  },
  {
   "cell_type": "code",
   "execution_count": 34,
   "metadata": {},
   "outputs": [],
   "source": [
    "#### TEST ######\n",
    "\n",
    "\n",
    "import pickle\n",
    "import csv\n",
    "file = open('model_consumption/Household-Model-Development/init_data/allhhscardemand.pickle','rb')\n",
    "x = pickle.load(file)\n",
    "with open('model_consumption/Household-Model-Development/init_data/allhhscardemand.csv', 'w') as output:\n",
    "    writer = csv.writer(output)\n",
    "    for key, value in x.items():\n",
    "        writer.writerow([key, value])\n",
    "        "
   ]
  },
  {
   "cell_type": "code",
   "execution_count": 1,
   "metadata": {},
   "outputs": [],
   "source": [
    "%%capture\n",
    "import pandas as pd\n",
    "import numpy as np\n",
    "import pickle\n",
    "import os\n",
    "\n",
    "from scipy import stats\n",
    "import scipy.stats as stats\n",
    "import statistics\n",
    "from statsmodels.stats.multicomp import pairwise_tukeyhsd, MultiComparison\n",
    "import random \n",
    "\n",
    "import seaborn as sns\n",
    "import matplotlib.pyplot as plt\n",
    "\n",
    "import sklearn\n",
    "import sklearn.multioutput as sko\n",
    "from sklearn.ensemble import RandomForestRegressor\n",
    "from sklearn.metrics import r2_score,mean_squared_error, explained_variance_score\n",
    "from sklearn.model_selection import cross_val_score, KFold, train_test_split, StratifiedShuffleSplit\n",
    "from sklearn.preprocessing import FunctionTransformer\n",
    "\n",
    "# import brightway2 as bw #TODO when running LCA for the rebound model here\n",
    "\n",
    "import warnings\n",
    "warnings.filterwarnings(\"ignore\")\n",
    "%matplotlib inline"
   ]
  },
  {
   "cell_type": "code",
   "execution_count": 33,
   "metadata": {},
   "outputs": [
    {
     "data": {
      "text/plain": [
       "['btype',\n",
       " 'bid',\n",
       " 'bfsnr',\n",
       " 'x',\n",
       " 'y',\n",
       " 'elevation',\n",
       " 'delta02',\n",
       " 'delta10',\n",
       " 'delta20',\n",
       " 'area',\n",
       " 'cells',\n",
       " 'p0',\n",
       " 'p5',\n",
       " 'p10',\n",
       " 'p15',\n",
       " 'p20',\n",
       " 'p25',\n",
       " 'p30',\n",
       " 'p35',\n",
       " 'p40',\n",
       " 'p45',\n",
       " 'p50',\n",
       " 'p55',\n",
       " 'p60',\n",
       " 'p65',\n",
       " 'p70',\n",
       " 'p75',\n",
       " 'p80',\n",
       " 'p85',\n",
       " 'p90',\n",
       " 'p95',\n",
       " 'p100',\n",
       " 'p1',\n",
       " 'p2',\n",
       " 'p3',\n",
       " 'p4',\n",
       " 'p96',\n",
       " 'p97',\n",
       " 'p98',\n",
       " 'p99',\n",
       " 'pavg',\n",
       " 'pcount',\n",
       " 'pe0',\n",
       " 'pe5',\n",
       " 'pe10',\n",
       " 'pe15',\n",
       " 'pe20',\n",
       " 'pe25',\n",
       " 'pe30',\n",
       " 'pe35',\n",
       " 'pe40',\n",
       " 'pe45',\n",
       " 'pe50',\n",
       " 'pe55',\n",
       " 'pe60',\n",
       " 'pe65',\n",
       " 'pe70',\n",
       " 'pe75',\n",
       " 'pe80',\n",
       " 'pe85',\n",
       " 'pe90',\n",
       " 'pe95',\n",
       " 'pe100',\n",
       " 'pe1',\n",
       " 'pe2',\n",
       " 'pe3',\n",
       " 'pe4',\n",
       " 'pe96',\n",
       " 'pe97',\n",
       " 'pe98',\n",
       " 'pe99',\n",
       " 'peavg',\n",
       " 'pecount',\n",
       " 'el0',\n",
       " 'el5',\n",
       " 'el10',\n",
       " 'el15',\n",
       " 'el20',\n",
       " 'el25',\n",
       " 'el30',\n",
       " 'el35',\n",
       " 'el40',\n",
       " 'el45',\n",
       " 'el50',\n",
       " 'el55',\n",
       " 'el60',\n",
       " 'el65',\n",
       " 'el70',\n",
       " 'el75',\n",
       " 'el80',\n",
       " 'el85',\n",
       " 'el90',\n",
       " 'el95',\n",
       " 'el100',\n",
       " 'el1',\n",
       " 'el2',\n",
       " 'el3',\n",
       " 'el4',\n",
       " 'el96',\n",
       " 'el97',\n",
       " 'el98',\n",
       " 'el99',\n",
       " 'elavg',\n",
       " 'elcount',\n",
       " 'slope0',\n",
       " 'slope5',\n",
       " 'slope10',\n",
       " 'slope15',\n",
       " 'slope20',\n",
       " 'slope25',\n",
       " 'slope30',\n",
       " 'slope35',\n",
       " 'slope40',\n",
       " 'slope45',\n",
       " 'slope50',\n",
       " 'slope55',\n",
       " 'slope60',\n",
       " 'slope65',\n",
       " 'slope70',\n",
       " 'slope75',\n",
       " 'slope80',\n",
       " 'slope85',\n",
       " 'slope90',\n",
       " 'slope95',\n",
       " 'slope100',\n",
       " 'slope1',\n",
       " 'slope2',\n",
       " 'slope3',\n",
       " 'slope4',\n",
       " 'slope96',\n",
       " 'slope97',\n",
       " 'slope98',\n",
       " 'slope99',\n",
       " 'slopeavg',\n",
       " 'slopecount',\n",
       " 'volume',\n",
       " 'avg_height',\n",
       " 'avg_height_1',\n",
       " 'volume_minelev',\n",
       " 'avg_height_minelev',\n",
       " 'min_elev',\n",
       " 'perimeter',\n",
       " 'perimeter_minh',\n",
       " 'perimeter_avgh',\n",
       " 'perimeter_maxh',\n",
       " 'perimeter_medh',\n",
       " 'mar_ratio',\n",
       " 'mar_angle',\n",
       " 'ds',\n",
       " 'geom']"
      ]
     },
     "execution_count": 33,
     "metadata": {},
     "output_type": "execute_result"
    }
   ],
   "source": [
    "gws_test = pd.read_csv('model_rene_buildinginfo/Buildinginfo.csv',delimiter= \",\",encoding='ISO-8859–1' )\n",
    "list(gws_test.columns)\n"
   ]
  },
  {
   "cell_type": "code",
   "execution_count": 30,
   "metadata": {},
   "outputs": [
    {
     "data": {
      "text/plain": [
       "521.376550661"
      ]
     },
     "execution_count": 30,
     "metadata": {},
     "output_type": "execute_result"
    }
   ],
   "source": [
    "gws_test['volume'].median()"
   ]
  },
  {
   "cell_type": "markdown",
   "metadata": {},
   "source": [
    "<p style='color:blue'>USER INPUT NEEDED to chose the strategy no</p>"
   ]
  },
  {
   "cell_type": "code",
   "execution_count": 20,
   "metadata": {},
   "outputs": [],
   "source": [
    "Strategy_no = 0\n",
    "\n",
    "# for building model :  oil: 50%, gas: 15%, dis.: 5%, ren: 15%, heatpump 15%\n",
    "# 0, 1 , NO CHANGE\n",
    "# 2 , oil to district : oil: -10%, dis.: +10%\n",
    "# 3 , oil to district and renw: oil: -25%, dis.: +5%, ren: +5%, heatpump +15%\n",
    "# 4 , oil to district and renw(more): oil: -40%, gas: +10%, dis.: +20%, ren: 15%, heatpump +10%"
   ]
  },
  {
   "cell_type": "markdown",
   "metadata": {},
   "source": [
    "#### Adapt the owner ABM output files further "
   ]
  },
  {
   "cell_type": "code",
   "execution_count": null,
   "metadata": {},
   "outputs": [],
   "source": [
    "# (0) Take Owner ABM output file\n",
    "pd_owner_raw = pd.read_csv('model_owner_ABM/strategy'+str(Strategy_no)+'_output_dw_model.csv',\n",
    "                           delimiter=',', error_bad_lines=False, encoding='ISO-8859–1')\n",
    "print(pd_owner_raw.head(),list(pd_owner_raw.columns))\n",
    "\n",
    "pd_intergation_ownr = pd.read_excel('model_owner_ABM/integration_OwnerABM_Buildingmodel_1.xlsx')\n",
    "\n",
    "# (1) drop the unwanted columns\n",
    "pd_intergation_ownr_list_drop = list(pd_intergation_ownr['variables from owner ABM'])\n",
    "pd_owner_raw=pd_owner_raw[pd_intergation_ownr_list_drop]\n",
    "\n",
    "# (2) rename the columns\n",
    "pd_intergation_ownr_list_renamed = list(pd_intergation_ownr['Inputs for building model '])\n",
    "pd_owner_raw.columns = pd_intergation_ownr_list_renamed\n",
    "pd.DataFrame.to_csv(pd_owner_raw,'model_owner_ABM/dwelling_data_1.csv',sep=',',index=False)"
   ]
  },
  {
   "cell_type": "markdown",
   "metadata": {},
   "source": [
    "#### Attach the tenant and the owner ABM output files <a id = 'dwelling_area'></a>"
   ]
  },
  {
   "cell_type": "code",
   "execution_count": null,
   "metadata": {},
   "outputs": [],
   "source": [
    "pd_tenant_raw = pd.read_csv('model_tenant_ABM/strategy'+str(Strategy_no)+'_households_data.csv', sep=',')\n",
    "pd_owner_raw = pd.read_csv('model_owner_ABM/dwelling_data_1.csv', sep=',')\n",
    "\n",
    "pd_owner_raw_columns = list(pd_owner_raw.columns)\n",
    "pd_tenant_raw_columns = list(pd_tenant_raw.columns)\n",
    "\n",
    "print('owner-columns=', pd_owner_raw_columns ,len(pd_owner_raw_columns),\n",
    "      '\\n\\ntenant-columns=',pd_tenant_raw_columns,len(pd_tenant_raw_columns))\n",
    "\n",
    "pd_owner_tenant_raw = pd.merge(pd_owner_raw,pd_tenant_raw, left_on= ['Time step','Dwelling id'],\n",
    "                               right_on= ['Step','Current dwelling id'] )\n",
    "\n",
    "\n",
    "#check if the match is correct based on dwelling sizes\n",
    "area_tenant_file = [np.round(i) for i in list(pd_owner_tenant_raw['Dwelling area'])]\n",
    "area_owner_file = [np.round(i) for i in list(pd_owner_tenant_raw['Current dwelling size'])]\n",
    "\n",
    "# assert area_tenant_file == area_owner_file #TODO for later 0 check which lines has error\n",
    "\n",
    "\n",
    "pd_owner_tenant_raw=pd_owner_tenant_raw.drop(columns=['Unnamed: 0', 'Step', 'Current dwelling id',\n",
    "                                                      'Current dwelling size','Postcode'])\n",
    "\n",
    "print('\\n\\nall columns=',list(pd_owner_tenant_raw.columns),len(list(pd_owner_tenant_raw.columns)))\n",
    "\n",
    "pd.DataFrame.to_csv(pd_owner_tenant_raw,'raw/1_households_building_data.csv',sep=',')"
   ]
  },
  {
   "cell_type": "markdown",
   "metadata": {},
   "source": [
    "#### Attached (owner-tenant) data to ---> input for building model "
   ]
  },
  {
   "cell_type": "code",
   "execution_count": null,
   "metadata": {},
   "outputs": [],
   "source": [
    "dwelling_columns = list(pd_owner_tenant_raw.columns)[:21]\n",
    "pd_owner= pd_owner_tenant_raw[dwelling_columns]\n",
    "print(list(pd_owner.columns), len(list(pd_owner.columns)))\n",
    "pd.DataFrame.to_csv(pd_owner,'raw/1_dwelling_data.csv',sep=',')"
   ]
  },
  {
   "cell_type": "markdown",
   "metadata": {},
   "source": [
    "#### Attached (owner-tenant) data to ---> input for consumption model"
   ]
  },
  {
   "cell_type": "code",
   "execution_count": null,
   "metadata": {},
   "outputs": [],
   "source": [
    "# pd_tenant = pd_owner_tenant_raw.drop([ 'Year', 'Month','Dwelling room','Dwelling rent', 'building id', 'Settlment id', \n",
    "#                                       'Street address', 'city', 'post code', 'Building total apartment area', \n",
    "#                                       'Building no. of dwelling', 'Building height', 'Building Construction year', \n",
    "#                                       'Refurbishment year', 'Refurbishment type'],axis=1)\n",
    "# print(list(pd_tenant.columns),len(list(pd_tenant.columns)))\n",
    "# pd.DataFrame.to_csv(pd_tenant,'raw/1_households_data_noregion.csv',sep=',')\n",
    "\n",
    "# # Add the values in the 'char_region_xx' columns for consumption mdoel, based on postcodes in tenant model output\n",
    "# pd_tenant[['char_georegion_ge','char_georegion_mit','char_georegion_nw',\n",
    "#     'char_georegion_zh','char_georegion_ost','char_georegion_zen',\n",
    "#     'char_georegion_ti']] = pd.DataFrame([[0,0,0,0,0,0,0]], index=pd_tenant.index)\n",
    "\n",
    "# pd_tenant.loc[pd_tenant.canton=='Zurich', 'char_georegion_zh']=1\n",
    "# pd_tenant.loc[pd_tenant.canton=='Vaud', 'char_georegion_ge']=1\n",
    "\n",
    "# pd_tenant=pd_tenant.drop(['canton'],axis=1)\n",
    "\n",
    "\n",
    "# ## Prepare the file for input in consumption model, based on column names of tenant model output file\n",
    "# pd_consumption_raw_columns = pd.read_excel('model_tenant_ABM/Integration_ABMTenant_Consumptionmodel.xlsx')\n",
    "# pd_consumption_raw_columns_list = list(pd_consumption_raw_columns['variable_name_consumption_model'])\n",
    "\n",
    "# pd_tenant.columns = pd_consumption_raw_columns_list\n",
    "\n",
    "# print(list(pd_tenant.columns), len(list(pd_tenant.columns)))\n",
    "# pd.DataFrame.to_csv(pd_tenant,'raw/1_households_data.csv',sep=',')"
   ]
  },
  {
   "cell_type": "code",
   "execution_count": null,
   "metadata": {},
   "outputs": [],
   "source": [
    "pd_tenant = pd.read_csv('model_tenant_ABM/strategy'+str(Strategy_no)+'_households_data.csv', sep=',')\n",
    "\n",
    "# Add the values in the 'char_region_xx' columns for consumption mdoel, based on postcodes in tenant model output\n",
    "pd_tenant[['char_georegion_ge','char_georegion_mit','char_georegion_nw',\n",
    "    'char_georegion_zh','char_georegion_ost','char_georegion_zen',\n",
    "    'char_georegion_ti']] = pd.DataFrame([[0,0,0,0,0,0,0]], index=pd_tenant.index)\n",
    "\n",
    "pd_tenant.loc[(pd_tenant.Postcode<9000) & (pd_tenant.Postcode>=8000) , 'char_georegion_zh']=1\n",
    "pd_tenant.loc[(pd_tenant.Postcode<2000) & (pd_tenant.Postcode>=1000), 'char_georegion_ge']=1\n",
    "\n",
    "pd_tenant=pd_tenant.drop(['Unnamed: 0', 'Year', 'Month', 'Postcode'],axis=1)\n",
    "print(list(pd_tenant.columns),len(list(pd_tenant.columns)))\n",
    "\n",
    "## Prepare the file for input in consumption model, based on column names of tenant model output file\n",
    "pd_consumption_raw_columns = pd.read_excel('model_tenant_ABM/Integration_ABMTenant_Consumptionmodel.xlsx')\n",
    "pd_consumption_raw_columns_list = list(pd_consumption_raw_columns['variable_name_consumption_model'])\n",
    "\n",
    "pd_tenant.columns = pd_consumption_raw_columns_list\n",
    "\n",
    "print(list(pd_tenant.columns), len(list(pd_tenant.columns)))\n",
    "pd.DataFrame.to_csv(pd_tenant,'raw/1_households_data.csv',sep=',')"
   ]
  },
  {
   "cell_type": "markdown",
   "metadata": {},
   "source": [
    "#### Attached (owner-tenant) data to ---> input for rebound model <a id='rebound-abm'></a>"
   ]
  },
  {
   "cell_type": "code",
   "execution_count": null,
   "metadata": {},
   "outputs": [],
   "source": [
    "# attach the dwelling rent for income estimation\n",
    "pd_owner=pd.read_csv('raw/1_dwelling_data.csv',sep=',')[['Dwelling id','Dwelling rent']]\n",
    "pd_tenant_rebound=pd.merge(pd_tenant,pd_owner,left_on=['dwelling_id'],right_on=['Dwelling id'])\n",
    "\n",
    "# adapt the tenant database with the selected independent properties of the rebound regression model\n",
    "pd_rebound_column_name = list(pd.read_excel('model_rebound/integration_ABMTenant_Rebound.xlsx')['name_rebound'])\n",
    "pd_consum_column_name = list(pd.read_excel('model_rebound/integration_ABMTenant_Rebound.xlsx')['name_consumption']) \n",
    "\n",
    "# reindex the columns for input in the regression model\n",
    "pd_rebound = pd_tenant_rebound.T.reindex(pd_consum_column_name)\n",
    "\n",
    "pd_rebound = pd_rebound.T\n",
    "\n",
    "pd_rebound.columns = pd_rebound_column_name"
   ]
  },
  {
   "cell_type": "code",
   "execution_count": null,
   "metadata": {},
   "outputs": [],
   "source": [
    "# edit the columns further\n",
    "pd_rebound['disposable_income']=pd_rebound['disposable_income']*3 # assumption: rent is 1/3rd of the income\n",
    "pd.DataFrame.to_csv(pd_rebound,'raw/1_rebound_household_data.csv',sep=',',index=False)\n",
    "\n",
    "pd_rebound['households_with_a_woman_as_reference_person']=np.random.randint(0,2,pd_rebound.shape[0])\n",
    "\n",
    "sum1=pd_rebound['female_persons_aged_between_5_and_14_years']+pd_rebound[\n",
    "    'female_persons_aged_between_15_and_24_years']+pd_rebound[\n",
    "    'male_persons_aged_between_5_and_14_years']+pd_rebound[\n",
    "    'male_persons_aged_between_15_and_24_years']\n",
    "pd_rebound['number_of_students/trainees/apprentices_in_the_household']=np.random.randint(0,sum1+1,pd_rebound.shape[0])\n",
    "\n",
    "sum2=pd_rebound['female_persons_aged_between_25_and_34_years']+pd_rebound[\n",
    "    'female_persons_aged_between_35_and_44_years']+pd_rebound[\n",
    "    'female_persons_aged_between_45_and_54_years']+pd_rebound[\n",
    "    'female_persons_aged_between_55_and_64_years']+pd_rebound[\n",
    "    'male_persons_aged_between_25_and_34_years']+pd_rebound[\n",
    "    'male_persons_aged_between_35_and_44_years']+pd_rebound[\n",
    "    'male_persons_aged_between_45_and_54_years']+pd_rebound[\n",
    "    'male_persons_aged_between_55_and_64_years']\n",
    "pd_rebound['number_of_employed_persons_in_the_household']=np.random.randint(0,sum2+1,pd_rebound.shape[0])\n",
    "\n",
    "sum3 = pd_rebound['female_persons_aged_between_65_and_74_years']+pd_rebound[\n",
    "    'female_persons_older_than_75_years']+pd_rebound[\n",
    "    'male_persons_aged_between_65_and_74_years']+pd_rebound[\n",
    "    'male_persons_older_than_75_years']\n",
    "pd_rebound['number_of_employed_persons_in_the_household']=np.random.randint(0,sum3+1,pd_rebound.shape[0])\n",
    "\n",
    "pd_rebound['number_of_other_persons_in_the_household_(wrt_employment)']=0\n",
    "pd_rebound['number_of_self_employed_persons_in_the_household']=0\n",
    "pd_rebound"
   ]
  },
  {
   "cell_type": "markdown",
   "metadata": {},
   "source": [
    "-------------------------------------------------------------------------------------------------------------------------------\n",
    "## 1. Occupants' footprint <a id=\"consumption\"></a>\n",
    "\n",
    "<a href=\"#toc-main\">back</a>\n",
    "\n",
    "TOC:<a id=\"toc-consum\"></a>\n",
    "- <a href=\"#direct_cons\">Step 1.a. Direct Consumption-based footprint </a>\n",
    "- <a href=\"#rebounds\">Step 1.b. Rebounds of the consumption footrpint</a>"
   ]
  },
  {
   "cell_type": "markdown",
   "metadata": {},
   "source": [
    "### 1a. Direct Consumption-based footprint <a id=\"direct_cons\"></a>\n",
    "\n",
    "<a href=\"#toc-cons\">back</a>\n",
    "\n",
    "The following script assigns consumption-archetypes and associated life cycle greenhouse gas emissions that were found in the <a href=https://pubs.acs.org/doi/abs/10.1021/acs.est.8b01452>ES&T-Paper Froemelt et al. 2018</a> to the ABM-households. The assignment is conducted in the same manner as in the <a href=\"https://onlinelibrary.wiley.com/doi/full/10.1111/jiec.12969\">JIE-Paper Froemelt et al. 2020</a> and thus based on the Random-Forest-Classifier that was trained for the respective paper.\n",
    "\n",
    "*Input*: the user needs to provide the data for the ABM-households in the same structure as demonstrated in test_data.xlsx\n",
    "\n",
    "*Run*: The Jupyter Notebook provides a step-by-step guidance to do the computations\n",
    "\n",
    "*Output*: Two EXCEL-files will be stored: 1. Probabilities for each household of behaving like a certain consumption-archetype; 2. LCA-results (IPCC 2013, 100a) aggregated at the main consumption areas for each household in kgCO$_{2}$-eq per year (NOTE: per household, not per capita)\n",
    "\n",
    "TOC <a id=\"toc\"></a>:\n",
    "- <a href=\"#ini\">Step 1a.0: Initialisation</a>\n",
    "- <a href=\"#prep\">Step 1a.1: Data Preparation</a>\n",
    "- <a href=\"#probs\">Step 1a.2: Estimate Probabilities for Consumption-Archetypes</a>\n",
    "- <a href=\"#lca\">Step 1a.3: Life Cycle Assessment of Consumption Behaviour</a>"
   ]
  },
  {
   "cell_type": "markdown",
   "metadata": {},
   "source": [
    "#### 1a.0: Initialisation <a id=\"ini\"></a>\n",
    "\n",
    "<a href=\"#toc\">back</a>"
   ]
  },
  {
   "cell_type": "code",
   "execution_count": 3,
   "metadata": {},
   "outputs": [],
   "source": [
    "# Path to data needed\n",
    "init_data_path = r\"model_consumption/Household-Model-Development/init_data\"\n",
    "# Path to output of ABM-model\n",
    "abm_input_path = r\"model_consumption/Household-Model-Development/abm_input\"\n",
    "# Separate path to classifier to save space on disk\n",
    "clf_path = r\"model_consumption\"\n",
    "# Path to results\n",
    "res_path = r\"model_consumption/Household-Model-Development/results\"\n",
    "\n",
    "# Loading classifier (trained and used for JIE-Paper Froemelt et al. 2020)\n",
    "with open(os.path.join(clf_path, \"calibrated_classifier_mob.pickle\"), 'rb') as f:\n",
    "    cccv = pickle.load(f)\n",
    "\n",
    "# Loading list of attributes (important for correct order of attributes)\n",
    "with open(os.path.join(init_data_path, 'listofattributes.pickle'), 'rb') as f:\n",
    "    listofattributes = pickle.load(f)\n",
    "    \n",
    "# Loading a translation dict to convert the random-forest-cluster-names to the names used in ES&T-Paper\n",
    "# Froemelt et al. 2018\n",
    "with open(os.path.join(init_data_path, 'archetransl.pickle'), 'rb') as f:\n",
    "    archetranslator = pickle.load(f)\n",
    "\n",
    "# Loading the LCA-results for greenhouse gas emissions (IPCC 2013, 100a) --> results are in kgCO2-eq/yr\n",
    "ghg_df = pd.read_pickle(os.path.join(init_data_path, 'archetypes_annual_ghg.pickle'))"
   ]
  },
  {
   "cell_type": "code",
   "execution_count": null,
   "metadata": {},
   "outputs": [],
   "source": [
    "# # adapt the household consumption file slightly \n",
    "# nameofABMoutputfile_csv = pd.read_csv('raw/1_households_data.csv', sep=',')\n",
    "# nameofABMoutputfile_csv = nameofABMoutputfile_csv.iloc[:,5:37] # dropping first four columns which are not needed for the consumption model\n",
    "\n",
    "# nameofABMoutputfile_csv=nameofABMoutputfile_csv.drop_duplicates()\n",
    "\n",
    "# print(list(nameofABMoutputfile_csv.columns), len(list(nameofABMoutputfile_csv.columns)))\n",
    "# nameofABMoutputfile = nameofABMoutputfile_csv.to_excel('model_consumption/Household-Model-Development/abm_input/test_data.xlsx',\n",
    "#                                                             index = None, header=True) # ASSUMPTION: file is in xlsx-format"
   ]
  },
  {
   "cell_type": "code",
   "execution_count": 21,
   "metadata": {},
   "outputs": [],
   "source": [
    "fname = os.path.join(abm_input_path, \"test_data_\"+str(Strategy_no)+\".xlsx\")\n",
    "# fname = os.path.join(abm_input_path, \"new/test_data.xlsx\")\n",
    "agentHHs = pd.read_excel(fname)\n",
    "\n",
    "# Probably not necessary, but we are making sure that the attributes are in the correct order\n",
    "\n",
    "# agentHHs = agentHHs.T.reindex(listofattributes)\n",
    "# agentHHs = agentHHs.T\n",
    "# assert list(agentHHs.columns) == listofattributes"
   ]
  },
  {
   "cell_type": "markdown",
   "metadata": {},
   "source": [
    "#### 1a.1: Data Preparation <a id=\"prep\"></a>\n",
    "\n",
    "<a href=\"#toc\">back</a>\n",
    "\n",
    "To impute the missing mobility data, two versions are implemented here. <a href=\"#mobv1\">Version 1</a>: set the mobility demand to the Swiss-wide median (=0.5); <a href=\"#mobv2\">Version 2</a>: Based on the given household characteristics, we estimate a mobility demand with microcensus data from 2015 (https://www.bfs.admin.ch/bfs/de/home/aktuell/neue-veroeffentlichungen.gnpdetail.2017-0076.html)."
   ]
  },
  {
   "cell_type": "markdown",
   "metadata": {},
   "source": [
    "**<p style=\"color:blue\">USER INPUT NEEDED: CHOOSE <a href=\"#mobv1\">VERSION 1</a> OR <a href=\"#mobv2\">VERSION 2</a></p>**"
   ]
  },
  {
   "cell_type": "markdown",
   "metadata": {},
   "source": [
    "##### Impute mobility demand (Version 1, set to median) <a id=\"mobv1\"></a> and jump to <a href=\"#probs\">1a.2: Probabilities for Consumption-Archetypes</a>"
   ]
  },
  {
   "cell_type": "code",
   "execution_count": 22,
   "metadata": {},
   "outputs": [],
   "source": [
    "agentHHs['mobility'] = 0.5"
   ]
  },
  {
   "cell_type": "markdown",
   "metadata": {},
   "source": [
    "##### Impute mobility demand (Version 2, use microcensus 2015) <a id=\"mobv2\"></a>"
   ]
  },
  {
   "cell_type": "code",
   "execution_count": null,
   "metadata": {},
   "outputs": [],
   "source": [
    "%%time\n",
    "# daily distance in km from microcensus 2015 (motorisierter Individualverkehr):\n",
    "# Verkehrsverhalten der Bevölkerung, Kenngrössen 2015 - Schweiz\n",
    "mc_data = {\n",
    "    'gender': {\n",
    "        'm': 29.242695698,\n",
    "        'f': 19.595522015\n",
    "    },\n",
    "    'age': {\n",
    "        '0617': 13.252892803,\n",
    "        '1824': 24.792044371,\n",
    "        '2544': 31.295384917,\n",
    "        '4564': 28.671073552,\n",
    "        '6579': 16.968762215,\n",
    "        '8099': 6.5412771519\n",
    "        \n",
    "    },\n",
    "    'inc': {\n",
    "        '<4000': 13.196680471,\n",
    "        '40018000': 24.841538427,\n",
    "        '800112000': 32.139251131,\n",
    "        '>12000': 34.034484978\n",
    "    }\n",
    "}\n",
    "\n",
    "# Very probably, we will only have data on gender and age for the ABM-households --> income will not be considered\n",
    "# The following matchings are simplified assumptions to align the microcensus data with the expected data from the\n",
    "# ABM-model. If more detailed data is provided by the ABM-model the whole cell needs to be revised!\n",
    "matchABMMC = {\n",
    "    '0514': '0617',\n",
    "    '1524': '1824',\n",
    "    '2534': '2544',\n",
    "    '3544': '2544',\n",
    "    '4554': '4564',\n",
    "    '5564': '4564',\n",
    "    '6574': '6579',\n",
    "    '7599': '8099'\n",
    "}\n",
    "\n",
    "# Estimate daily mobility demand based on gender\n",
    "genderestimate = mc_data['gender']['f'] * \\\n",
    "agentHHs[[c for c in agentHHs.columns if 'fem' in c and not '0004' in c]].sum(axis=1) \\\n",
    "+ mc_data['gender']['m'] * agentHHs[[c for c in agentHHs.columns if 'male' in c and not '0004' in c]].sum(axis=1)\n",
    "\n",
    "# Estimate daily mobility demand based on age structure\n",
    "ageestimate = pd.Series(0, index=agentHHs.index)\n",
    "for ky in matchABMMC.keys():\n",
    "    ageestimate += (mc_data['age'][matchABMMC[ky]] * agentHHs[[c for c in agentHHs.columns if ky in c]].sum(axis=1))\n",
    "\n",
    "# Take the average of both estimates\n",
    "agentHHs['mobility'] = 0.5 * genderestimate + 0.5 * ageestimate\n",
    "\n",
    "# Convert from daily to yearly demand\n",
    "agentHHs['mobility'] *= 365\n",
    "\n",
    "# Load car demand of all Swiss households (mobility model --> see JIE-Paper Froemelt et al. 2020)\n",
    "hhcardemand = pd.read_pickle(os.path.join(init_data_path, 'allhhscardemand.pickle'))\n",
    "\n",
    "# Compute percentile score of agent-HHs' mobility demand\n",
    "for hhid in agentHHs.index:\n",
    "    agentHHs.loc[hhid, 'mobility'] = stats.percentileofscore(hhcardemand.values, agentHHs.loc[hhid, 'mobility']) / 100\n",
    "    \n",
    "del ageestimate, genderestimate, hhcardemand"
   ]
  },
  {
   "cell_type": "markdown",
   "metadata": {},
   "source": [
    "#### 1a.2: Probabilities for Consumption-Archetypes <a id=\"probs\"></a>\n",
    "\n",
    "<a href=\"#toc\">back</a>"
   ]
  },
  {
   "cell_type": "code",
   "execution_count": 23,
   "metadata": {},
   "outputs": [
    {
     "data": {
      "image/png": "[encoded data removed]",
      "text/plain": [
       "<Figure size 432x288 with 2 Axes>"
      ]
     },
     "metadata": {
      "needs_background": "light"
     },
     "output_type": "display_data"
    }
   ],
   "source": [
    "# For each ABM-household we compute the probability of being a certain consumption-archetype\n",
    "probs = cccv.predict_proba(agentHHs.values)\n",
    "probs_df = pd.DataFrame(data=probs, index=agentHHs.index, columns=[archetranslator[c] for c in cccv.classes_])\n",
    "\n",
    "# Visualise the probabilities\n",
    "sns.heatmap(probs_df, cmap='coolwarm', xticklabels=True, yticklabels=True)\n",
    "plt.tight_layout()\n",
    "\n",
    "# Store the probabilities as excel-file\n",
    "probs_df.to_excel(os.path.join(res_path, 'res_archetypes_probas.xlsx'))"
   ]
  },
  {
   "cell_type": "markdown",
   "metadata": {},
   "source": [
    "#### 1a.3: Life Cycle Assessment of Consumption <a id=\"lca\"></a>\n",
    "\n",
    "<a href=\"#toc\">back</a>\n",
    "\n",
    "Before a life cycle assessment of consumption behaviour can be performed, we have to choose a consumption-archetype for each ABM-household. There are two options for this: <a href=\"#lcav1\">Option 1</a> is a manual user choice; <a href=\"#lcav2\">Option 2</a> automatically chooses the most probable archetype."
   ]
  },
  {
   "cell_type": "markdown",
   "metadata": {},
   "source": [
    "**<p style=\"color:blue\">USER INPUT NEEDED: CHOOSE <a href=\"#lcav1\">OPTION 1</a> OR <a href=\"#lcav2\">OPTION 2</a></p>**"
   ]
  },
  {
   "cell_type": "markdown",
   "metadata": {},
   "source": [
    "##### Option 1 (automatic selection of most probable archetype) <a id=\"lcav2\"></a> "
   ]
  },
  {
   "cell_type": "code",
   "execution_count": 24,
   "metadata": {},
   "outputs": [],
   "source": [
    "archechoice = dict()\n",
    "maxprobas = probs_df.T.idxmax()\n",
    "for hhid in agentHHs.index:\n",
    "    archechoice[hhid] = maxprobas[hhid]"
   ]
  },
  {
   "cell_type": "markdown",
   "metadata": {},
   "source": [
    "##### Option 2 (manual selection of archetypes) <a id=\"lcav1\"></a>\n",
    "\n",
    "<p style=\"color:blue\">USER INPUT NEEDED: ENTER THE ARCHETYPE-NAME (ACCORDING TO THE ES&T-PAPER FROEMELT ET AL. 2018) FOR EACH HOUSEHOLD</p> "
   ]
  },
  {
   "cell_type": "code",
   "execution_count": null,
   "metadata": {},
   "outputs": [],
   "source": [
    "archechoice = dict()\n",
    "for hhid in agentHHs.index:\n",
    "    archechoice[hhid] = input('HH-ID: {} --> Archetype: '.format(hhid))"
   ]
  },
  {
   "cell_type": "markdown",
   "metadata": {},
   "source": [
    "##### In the final step, we assign the LCA-results to ABM-households and save them as an EXCEL-file\n",
    "\n",
    "**NOTE: The results are in kg CO$_{2}$-eq per year on a household level (not per capita!)**"
   ]
  },
  {
   "cell_type": "code",
   "execution_count": null,
   "metadata": {},
   "outputs": [],
   "source": [
    "# Assign the aggregated LCA-GHG-results to the ABM-households\n",
    "hh_lca_res = pd.DataFrame(np.nan, index=agentHHs.index, columns=[c for c in ghg_df.columns if not c.endswith('_cap')])\n",
    "for hhid in hh_lca_res.index:\n",
    "    archename = archechoice[hhid]\n",
    "    hh_lca_res.loc[hhid, hh_lca_res.columns] = ghg_df.loc[archename, hh_lca_res.columns]\n",
    "hh_lca_res.to_excel(os.path.join(res_path, 'res_hhlca.xlsx'))"
   ]
  },
  {
   "cell_type": "code",
   "execution_count": null,
   "metadata": {},
   "outputs": [],
   "source": [
    "## attach the footprint back to tenants (1_household_data.csv)\n",
    "pd_result_consum_fp = pd.read_excel('model_consumption/Household-Model-Development/results/res_hhlca.xlsx',index_col=0)\n",
    "# pd_result_consum_fp = pd.concat([pd_tenant,pd_consum_fp],axis=1,sort=False)\n",
    "\n",
    "pd_result_consum_fp=pd_result_consum_fp.rename(columns={'total':'total_occupant_footprint'})\n",
    "\n",
    "pd_result_consum_fp['housing_all']=pd_result_consum_fp['housing']+pd_result_consum_fp['furnishings']\n",
    "pd_result_consum_fp['food_all']=pd_result_consum_fp['food']+pd_result_consum_fp['restaurantshotels']\n",
    "pd_result_consum_fp['transport_all']=pd_result_consum_fp['transport']+pd_result_consum_fp['recreation']\n",
    "\n",
    "\n",
    "pd.DataFrame.to_csv(pd_result_consum_fp,'postprocessing/1a_consumption/res_hhlca.csv')\n",
    "\n",
    "pd_result_consum_fp[['food_all','clothing','housing_all','transport_all','total_occupant_footprint']].mean()"
   ]
  },
  {
   "cell_type": "markdown",
   "metadata": {},
   "source": [
    "-------------------------------------------------------------------------------------------------------------------------------\n",
    "### 1b. Rebound consumption-based footprint <a id=\"rebounds\"></a>\n",
    "\n",
    "<a href=\"#toc-consum\">back</a>\n",
    "\n",
    "Aim: Quantify the environmental impact due to the savings due to consumption expenses\n",
    "\n",
    "_Input_: The household budet survey files to train the data \n",
    "\n",
    "_Model_: A random forest or Artificial neural network model \n",
    "<a href='https://ifu-esd-srv-4.ethz.ch/jupyterhub/user/shinder/notebooks/0_work/Models/1_consumption_movement/3_Rebound/5_final_model/rebound-model/rebound_model.ipynb'>Link to the full code</a>\n",
    "\n",
    "_Output_: The rebound expenses and environmental footprints of the households \n",
    "<p style='color:red'>[WIP] Detailed LCA of the consumption expenses as outputs</p>\n",
    "\n",
    "TOC<a id=\"toc-rebound\"></a>\n",
    "\n",
    "- <a href=\"#ini-rebound\"> Step 0: Initialisation</a>\n",
    "- <a href=\"#model-rebound\"> Step 1: Model </a>\n",
    "- <a href=\"#post-rebound\"> Step 2: Postprocessing </a>\n",
    "- <a href=\"#lca-rebound\"> Step 3: LCA </a>"
   ]
  },
  {
   "cell_type": "markdown",
   "metadata": {},
   "source": [
    "#### 1b.0. Initialisation <a id = 'ini-rebound'></a>\n",
    "\n",
    "<a href=\"#toc-rebound\">back</a>"
   ]
  },
  {
   "cell_type": "markdown",
   "metadata": {},
   "source": [
    "<p style='color:blue'>USER INPUT NEEDED: based on the expected rebound analysis, change the following values</p>\n",
    "\n",
    "Data Parameters\n",
    "- (1) **habe_file_folder** -> For the year 2009-11, the main Household budget survey(habe/hbs) file is provided by <a href= https://pubs.acs.org/doi/full/10.1021/acs.est.8b01452>A.Froemelt</a>. It is modified based on original HBS(HABE) data that we <a href = https://www.bfs.admin.ch/bfs/en/home/statistics/economic-social-situation-population/surveys/hbs.html>obtain from Federal Statistical Office of Switzerland</a>. It is further modiefied in the <a href='https://ifu-esd-srv-4.ethz.ch/jupyterhub/user/shinder/notebooks/0_work/Models/1_consumption_movement/3_Rebound/5_final_model/rebound-model/rebound_model.ipynb'>original rebound code</a> in the preprocessing section\n",
    "- (2) **dependent_indices** -> based on the HBS column indices, this file lists the relevant consumption expense parameters which are predicted \n",
    "- (3) **independent_indices** -> the HBS column indices which define the household socio-economic properties\n",
    "- (4) **target_data** -> Selects the target dataset to predict the results. For this project on housing industry, it is the partner dataset 'ABZ', 'SCHL' or 'SM' (and here takes the input from the <a href='#rebound-abm'>ABMs output</a>)\n",
    "\n",
    "Model parameters\n",
    "- (1) **iter_n** -> no.of iterations of runs\n",
    "- (2) **model_name** -> Random Forest (RF) or ANN (Artificial Neural Network)\n",
    "- (3) **income_groups** -> for postprocessing, the number of income groups on which the result is desired"
   ]
  },
  {
   "cell_type": "code",
   "execution_count": null,
   "metadata": {},
   "outputs": [],
   "source": [
    "# all the preprocessed files (training data) in the original code (check link above to the code to generate them)\n",
    "habe_file_folder='model_rebound/preprocessing'\n",
    "\n",
    "# setting model parameters\n",
    "iter_n=2\n",
    "model_name='RF' # 'RF' or 'ANN'\n",
    "income_groups=5 \n",
    "\n",
    "scenarios = {'baseline_2011':500}\n",
    "target_data = 'ABZ_ABM' \n",
    "target_data_file= pd.read_csv('raw/1_rebound_household_data.csv',sep=',') \n",
    "pd.DataFrame.to_csv(target_data_file,'model_rebound/target_'+target_data+'.csv',sep=',',index=False)\n",
    "\n",
    "idx_column_savings_cons = 289 #289 = 'net_rent_and_mortgage_interest_of_principal_residence'   "
   ]
  },
  {
   "cell_type": "code",
   "execution_count": null,
   "metadata": {},
   "outputs": [],
   "source": [
    "dependent_indices= 'model_rebound/dependent_housing.csv'\n",
    "dependent_indices_pd = pd.read_csv(dependent_indices, delimiter=',', encoding='ISO-8859–1')\n",
    "dependent_indices_pd_name = pd.read_csv(dependent_indices,sep=',')[\"name\"]\n",
    "dependentsize=len(list(dependent_indices_pd_name))\n",
    "\n",
    "independent_indices='model_rebound/independent.csv' \n",
    "independent_indices_pd = pd.read_csv(independent_indices, delimiter=',', encoding='ISO-8859–1')\n",
    "list_independent_columns = pd.read_csv(independent_indices, delimiter=',', encoding='ISO-8859–1')['name'].to_list()\n",
    "list_dependent_columns = pd.read_csv(dependent_indices, delimiter=',', encoding='ISO-8859–1')['name'].to_list()\n"
   ]
  },
  {
   "cell_type": "markdown",
   "metadata": {},
   "source": [
    "<p style='color:blue'>USER INPUT NEEDED:Chose whether to normalise or not</p>"
   ]
  },
  {
   "cell_type": "code",
   "execution_count": null,
   "metadata": {},
   "outputs": [],
   "source": [
    "input = 'no-normalise' #or 'normalise'\n",
    "\n",
    "if input =='normalise':\n",
    "    def normalise_partner(i,key):\n",
    "        pd_df_partner = pd.read_csv('model_rebound/target_'+target_data+'.csv',delimiter=',')\n",
    "        df_complete =  pd.read_csv('model_rebound/preprocessing/1_habe_rename_removeoutliers.csv',delimiter=',') \n",
    "        pd_df_partner['disposable_income'] = pd_df_partner['disposable_income'] + i\n",
    "\n",
    "        for colsss in list_independent_columns:\n",
    "            min_colsss = df_complete[[colsss]].quantile([0.01]).values[0]\n",
    "            max_colsss = df_complete[[colsss]].quantile([0.99]).values[0]\n",
    "            pd_df_partner[[colsss]] = (pd_df_partner[[colsss]] - min_colsss) / (max_colsss - min_colsss)\n",
    "\n",
    "        # pd_df_partner = pd_df_partner[pd_df_partner.iloc[:,30]<=1]\n",
    "        # pd_df_partner = pd_df_partner[pd_df_partner.iloc[:,32]<=1]\n",
    "        # pd_df_partner = pd_df_partner[pd_df_partner.iloc[:,33]>=0] #todo remove rows with normalisation over the range\n",
    "\n",
    "        pd.DataFrame.to_csv(pd_df_partner,'model_rebound/preprocessing/5_final_'+ target_data + \n",
    "                            '_independent_final_'+str(i)+'.csv',sep=',',index=False)\n",
    "        return pd_df_partner\n",
    "\n",
    "if input =='no-normalise':\n",
    "    def normalise_partner(i,key):\n",
    "        pd_df_partner = pd.read_csv('model_rebound/target_'+target_data+'.csv',delimiter=',')\n",
    "        df_complete =  pd.read_csv('model_rebound/preprocessing/1_habe_rename_removeoutliers.csv',delimiter=',') \n",
    "        pd_df_partner['disposable_income'] = pd_df_partner['disposable_income'] + i\n",
    "\n",
    "        # pd_df_partner = pd_df_partner[pd_df_partner.iloc[:,30]<=1]\n",
    "        # pd_df_partner = pd_df_partner[pd_df_partner.iloc[:,32]<=1]\n",
    "        # pd_df_partner = pd_df_partner[pd_df_partner.iloc[:,33]>=0] #todo remove rows with normalisation over the range\n",
    "\n",
    "\n",
    "        pd.DataFrame.to_csv(pd_df_partner,'model_rebound/preprocessing/5_final_'+ target_data + '_independent_final_'+str(i)+'.csv',sep=',',index=False)\n",
    "        return pd_df_partner\n",
    "    \n",
    "for key in scenarios:\n",
    "    list_incomechange=[0,scenarios[key]]\n",
    "    for i in list_incomechange:\n",
    "        df_normalise_partner_file = normalise_partner(i,key)"
   ]
  },
  {
   "cell_type": "markdown",
   "metadata": {},
   "source": [
    "#### 1b.1. Model <a id = 'model-rebound'></a>\n",
    "\n",
    "<a href=\"#toc-rebound\">back</a>"
   ]
  },
  {
   "cell_type": "code",
   "execution_count": null,
   "metadata": {},
   "outputs": [],
   "source": [
    "def to_haushalts(values,id_ix=0):\n",
    "    haushalts = dict()\n",
    "    haushalt_ids = np.unique(values[:,id_ix])\n",
    "    for haushalt_id in haushalt_ids:\n",
    "        selection = values[:, id_ix] == haushalt_id\n",
    "        haushalts[haushalt_id] = values[selection]\n",
    "    return haushalts\n",
    "\n",
    "def split_train_test(haushalts,length_training,month_name,row_in_chunk):\n",
    "    train, test = list(), list()\n",
    "    cut_point = int(0.8*length_training)  # 0.9*9754 # declare cut_point as per the size of the imputed database #TODO check if this is too less\n",
    "    print('Month/cluster and cut_point',month_name, cut_point)\n",
    "    for k,rows in haushalts.items():\n",
    "        train_rows = rows[rows[:,row_in_chunk] < cut_point, :]\n",
    "        test_rows = rows[rows[:,row_in_chunk] > cut_point, :]\n",
    "        train.append(train_rows[:, :])\n",
    "        test.append(test_rows[:, :])\n",
    "    return train, test"
   ]
  },
  {
   "cell_type": "code",
   "execution_count": null,
   "metadata": {},
   "outputs": [],
   "source": [
    "\n",
    "### NORMALISATION\n",
    "\n",
    "if input =='normalise':\n",
    "\n",
    "    def df_habe_train_test(df,month_name,length_training):\n",
    "        df=df.assign(id_split = list(range(df.shape[0])))\n",
    "        train, test = split_train_test(to_haushalts(df.values),length_training,month_name,row_in_chunk=df.shape[1]-1)\n",
    "\n",
    "        train_rows = np.array([row for rows in train for row in rows])\n",
    "        test_rows = np.array([row for rows in test for row in rows])\n",
    "\n",
    "        independent = list(range(0,independent_indices_pd.shape[0]))\n",
    "        dependent =  list(range(independent_indices_pd.shape[0]+1,\n",
    "                                independent_indices_pd.shape[0]+dependent_indices_pd.shape[0]+1))\n",
    "\n",
    "        trained_independent = train_rows[:, independent]\n",
    "        trained_dependent = train_rows[:, dependent]\n",
    "        test_independent = test_rows[:, independent]\n",
    "        test_dependent = test_rows[:, dependent]\n",
    "\n",
    "        ## OPTIONAL lines FOR CHECK - comment if not needed\n",
    "        np.savetxt('model_rebound/preprocessing/trained_dependent_nonexp.csv', trained_dependent, delimiter=',')    \n",
    "        np.savetxt('model_rebound/preprocessing/trained_dependent.csv', np.expm1(trained_dependent),delimiter=',')\n",
    "        np.savetxt('model_rebound/preprocessing/trained_independent.csv', trained_independent, delimiter=',')\n",
    "        np.savetxt('model_rebound/preprocessing/test_dependent.csv', np.expm1(test_dependent), delimiter=',')\n",
    "        np.savetxt('model_rebound/preprocessing/test_independent.csv', test_independent, delimiter=',')\n",
    "\n",
    "        return trained_independent,trained_dependent,test_independent,test_dependent\n",
    "\n",
    "    def df_partner_test(y):\n",
    "        df_partner = pd.read_csv('model_rebound/preprocessing/5_final_' + target_data + '_independent_final_' + str(y) + '.csv',\n",
    "                                 delimiter=',')\n",
    "        length_training = df_partner.shape[0]\n",
    "        train_partner, test_partner = split_train_test(to_haushalts(df_partner.values),length_training,month_name,1) \n",
    "        train_rows_partner = np.array([row for rows in train_partner for row in rows])\n",
    "        new_independent = list(range(0, 39)) # number of columns of the independent parameters\n",
    "        train_partner_independent = train_rows_partner[:, new_independent]\n",
    "\n",
    "        ### Optional lines for CHECK - comment if not needed\n",
    "        np.savetxt('model_rebound/preprocessing/train_partner_independent_' + model_name + '_' + str(y) + '.csv',\n",
    "                   train_partner_independent, delimiter=',')\n",
    "\n",
    "        return train_partner_independent\n",
    "    \n",
    "# NO-NORMALISATION\n",
    "if input =='no-normalise':\n",
    "    def df_habe_train_test(df,month_name,length_training):\n",
    "        df=df.assign(id_split = list(range(df.shape[0])))\n",
    "        train, test = split_train_test(to_haushalts(df.values),length_training,month_name,row_in_chunk=df.shape[1]-1)\n",
    "\n",
    "        train_rows = np.array([row for rows in train for row in rows])\n",
    "        test_rows = np.array([row for rows in test for row in rows])\n",
    "\n",
    "        independent = list(range(0,independent_indices_pd.shape[0]))\n",
    "        dependent =  list(range(independent_indices_pd.shape[0]+1,\n",
    "                                independent_indices_pd.shape[0]+dependent_indices_pd.shape[0]+1))\n",
    "\n",
    "        trained_independent = train_rows[:, independent]\n",
    "        trained_dependent = train_rows[:, dependent]\n",
    "        test_independent = test_rows[:, independent]\n",
    "        test_dependent = test_rows[:, dependent]\n",
    "\n",
    "        ## OPTIONAL lines FOR CHECK - comment if not needed\n",
    "        # np.savetxt('raw/checks/trained_dependent_nonexp_'+str(month_name)+'.csv', trained_dependent, delimiter=',')    \n",
    "        # np.savetxt('raw/checks/trained_independent_nonexp_'+str(month_name)+'.csv', trained_independent, delimiter=',')\n",
    "        np.savetxt('model_rebound/preprocessing/test_dependent_'+str(month_name)+'.csv', test_dependent,delimiter=',')    \n",
    "        np.savetxt('model_rebound/preprocessing/test_independent_'+str(month_name)+'.csv', test_independent, delimiter=',')\n",
    "\n",
    "        return trained_independent,trained_dependent,test_independent,test_dependent\n",
    "    \n",
    "    def df_partner_test(y):\n",
    "        df_partner = pd.read_csv('model_rebound/preprocessing/5_final_' + target_data + '_independent_final_' + str(y) + '.csv',\n",
    "                                 delimiter=',')\n",
    "        length_training = df_partner.shape[0]\n",
    "        train_partner, test_partner = split_train_test(to_haushalts(df_partner.values),\n",
    "                                                       length_training,cluster_number,1) \n",
    "        train_rows_partner = np.array([row for rows in train_partner for row in rows])\n",
    "        new_independent = list(range(0, 39))\n",
    "        train_partner_independent = train_rows_partner[:, new_independent]\n",
    "\n",
    "        ### Optional lines for CHECK - comment if not needed\n",
    "        np.savetxt('model_rebound/preprocessing/train_partner_independent_' + model_name + '_' + str(y) + '.csv',\n",
    "                   train_partner_independent, delimiter=',')\n",
    "\n",
    "        return train_partner_independent"
   ]
  },
  {
   "cell_type": "markdown",
   "metadata": {},
   "source": [
    "#### Prediction"
   ]
  },
  {
   "cell_type": "code",
   "execution_count": null,
   "metadata": {},
   "outputs": [],
   "source": [
    "## NORMALISATION\n",
    "\n",
    "if input =='normalise':\n",
    "\n",
    "    def fit_predict_cluster(i,y,cluster_number,key):\n",
    "        df = pd.read_csv('model_rebound/preprocessing/4_habe_deseasonal_cluster_'+str(cluster_number)+'_normalised.csv',\n",
    "                         delimiter=',',error_bad_lines=False, encoding='ISO-8859–1')\n",
    "        length_training = df.shape[0]\n",
    "        trained_independent, trained_dependent, test_independent, test_dependent = df_habe_train_test(df,\n",
    "                                                                                                      str(cluster_number),\n",
    "                                                                                                      length_training)\n",
    "        train_partner_independent = df_partner_test(y)\n",
    "        \n",
    "        if model_name == 'ANN':\n",
    "            estimator = KerasRegressor(build_fn=ANN)\n",
    "            estimator.fit(trained_independent, trained_dependent, epochs=100, batch_size=5, verbose=0)\n",
    "\n",
    "            ### PREDICTION FROM HERE\n",
    "            prediction_nn = estimator.predict(train_partner_independent)\n",
    "            prediction_nn_denormalised = np.expm1(prediction_nn)\n",
    "            np.savetxt('model_rebound/postprocessing/predicted_' + model_name + '_' + str(y) + '_' + str(i) \n",
    "                       + '_' + str(cluster_number) + '.csv', prediction_nn_denormalised, delimiter=',')\n",
    "\n",
    "            ### TEST PREDICTION\n",
    "            prediction_nn_test = estimator.predict(test_independent)\n",
    "            prediction_nn_test_denormalised = np.expm1(prediction_nn_test)\n",
    "            np.savetxt('model_rebound/postprocessing/predicted_test' + model_name + '_' + str(y) + '_' + str(i) \n",
    "                       + '_' + str(cluster_number) + '.csv', prediction_nn_test_denormalised, delimiter=',')\n",
    "\n",
    "            ### CROSS VALIDATION FROM HERE\n",
    "            kfold = KFold(n_splits=10, random_state=12)\n",
    "            results1 = cross_val_score(estimator, test_independent, test_dependent, cv=kfold)\n",
    "            print(\"Results_test: %.2f (%.2f)\" % (results1.mean(), results1.std()))\n",
    "\n",
    "        if model_name == 'RF':\n",
    "            estimator = sko.MultiOutputRegressor(RandomForestRegressor(n_estimators=100, max_features=39, random_state=30))\n",
    "            estimator.fit(trained_independent, trained_dependent)\n",
    "\n",
    "            ### PREDICTION FROM HERE\n",
    "            prediction_nn = estimator.predict(train_partner_independent)\n",
    "            prediction_nn_denormalised = np.expm1(prediction_nn)\n",
    "            np.savetxt('model_rebound/postprocessing/predicted_' + model_name + '_' + str(y) + '_' + str(i) \n",
    "                       + '_' + str(cluster_number) + '.csv', prediction_nn_denormalised, delimiter=',')\n",
    "\n",
    "             ### TEST PREDICTION\n",
    "            prediction_nn_test = estimator.predict(test_independent)\n",
    "            prediction_nn_test_denormalised = np.expm1(prediction_nn_test)\n",
    "            np.savetxt('model_rebound/postprocessing/predicted_test' + model_name + '_' + str(y) + '_' + str(i) \n",
    "                       + '_' + str(cluster_number) + '.csv', prediction_nn_test_denormalised, delimiter=',')        \n",
    "\n",
    "            #### CROSS VALIDATION FROM HERE\n",
    "            kfold = KFold(n_splits=10, random_state=12)\n",
    "            # results1 = cross_val_score(estimator, test_independent, test_dependent, cv=kfold)\n",
    "            results2 = r2_score(test_dependent,prediction_nn_test)\n",
    "            results3 = mean_squared_error(test_dependent,prediction_nn_test)\n",
    "            results4 = explained_variance_score(test_dependent,prediction_nn_test)\n",
    "            # print(\"cross_val_score: %.2f (%.2f)\" % (results1.mean(), results1.std()))\n",
    "            print(\"r2_score: %.2f \" % results2)\n",
    "            print(\"mean_squared_error: %.2f \" % results3)\n",
    "            print(\"explained_variance_score: %.2f \" % results4)\n",
    "\n",
    "### FOR NO NORMALISATION\n",
    "\n",
    "if input =='no-normalise':\n",
    "    def fit_predict_cluster(i,y,cluster_number,key):\n",
    "        df_non_normalised = pd.read_csv('model_rebound/preprocessing/4_habe_deseasonal_cluster_'+\n",
    "                                        str(cluster_number)+ '_short.csv', delimiter=',',\n",
    "                                        error_bad_lines=False, encoding='ISO-8859–1')\n",
    "        length_training = df_non_normalised.shape[0]\n",
    "        trained_independent, trained_dependent, test_independent, test_dependent = df_habe_train_test(df_non_normalised,\n",
    "                                                                                                      str(cluster_number),\n",
    "                                                                                                      length_training)\n",
    "        train_partner_independent = df_partner_test(y)\n",
    "        \n",
    "        ### Additional for the HBS test data subset\n",
    "        # test_new_independent = df_test(y,1) # chosing just one cluster here\n",
    "        # sratified_independent = df_stratified_test(y)\n",
    "    \n",
    "        if model_name == 'ANN':\n",
    "            estimator = KerasRegressor(build_fn=ANN)\n",
    "            estimator.fit(trained_independent, trained_dependent, epochs=100, batch_size=5, verbose=0)\n",
    "\n",
    "            ### PREDICTION FROM HERE\n",
    "            prediction_nn = estimator.predict(train_partner_independent)\n",
    "            np.savetxt('model_rebound/postprocessing/predicted_' + model_name + '_' + str(y) + '_' + str(i) \n",
    "                       + '_' + str(cluster_number) +'.csv', prediction_nn, delimiter=',')\n",
    "\n",
    "            ### TEST PREDICTION\n",
    "            prediction_nn_test = estimator.predict(test_independent)\n",
    "            np.savetxt('model_rebound/postprocessing/predicted_test_' + model_name + '_' + str(y) + '_' + str(i) \n",
    "                       + '_' + str(cluster_number) +'.csv', prediction_nn_test, delimiter=',')\n",
    "\n",
    "            ### CROSS VALIDATION FROM HERE\n",
    "            kfold = KFold(n_splits=10, random_state=12)\n",
    "            results1 = cross_val_score(estimator, test_independent, test_dependent, cv=kfold)\n",
    "            print(\"Results_test: %.2f (%.2f)\" % (results1.mean(), results1.std()))\n",
    "\n",
    "        if model_name == 'RF':\n",
    "            estimator = sko.MultiOutputRegressor(RandomForestRegressor(n_estimators=100, max_features=39, random_state=30))\n",
    "            estimator.fit(trained_independent, trained_dependent)\n",
    "\n",
    "            ### PREDICTION FROM HERE\n",
    "            prediction_nn = estimator.predict(train_partner_independent)\n",
    "            np.savetxt('model_rebound/postprocessing/predicted_' + model_name + '_' + str(y) + '_' + str(i) \n",
    "                       + '_' + str(cluster_number) +'.csv', prediction_nn, delimiter=',')\n",
    "\n",
    "             ### TEST PREDICTION\n",
    "            prediction_nn_test = estimator.predict(test_independent)\n",
    "            np.savetxt('model_rebound/postprocessing/predicted_test_' + model_name + '_' + str(y) + '_' + str(i) \n",
    "                       + '_' + str(cluster_number) +'.csv', prediction_nn_test, delimiter=',')     \n",
    "\n",
    "            #### CROSS VALIDATION FROM HERE\n",
    "            kfold = KFold(n_splits=10, random_state=12)\n",
    "            # results1 = cross_val_score(estimator, test_independent, test_dependent, cv=kfold)\n",
    "            results2 = r2_score(test_dependent,prediction_nn_test)\n",
    "            results3 = mean_squared_error(test_dependent,prediction_nn_test)\n",
    "            results4 = explained_variance_score(test_dependent,prediction_nn_test)\n",
    "            # print(\"cross_val_score: %.2f (%.2f)\" % (results1.mean(), results1.std()))\n",
    "            # print(\"r2_score: %.2f \" % results2)\n",
    "            print(\"mean_squared_error: %.2f \" % results3)\n",
    "            print(\"explained_variance_score: %.2f \" % results4)"
   ]
  },
  {
   "cell_type": "code",
   "execution_count": null,
   "metadata": {},
   "outputs": [],
   "source": [
    "# CLUSTER of MONTHS - PREDICTIONS\n",
    "cluster_number_length = 7\n",
    "for cluster_number in list(range(1,cluster_number_length+1)):\n",
    "    print(cluster_number)\n",
    "    for j in range(0, iter_n):\n",
    "        for key in scenarios:\n",
    "            list_incomechange=[0,scenarios[key]]\n",
    "            for y in list_incomechange:\n",
    "                fit_predict_cluster(j,y,cluster_number,key)"
   ]
  },
  {
   "cell_type": "markdown",
   "metadata": {},
   "source": [
    "#### 1b.2. Postprocessing <a id = 'post-rebound'></a>\n",
    "\n",
    "<a href=\"#toc-rebound\">back</a>"
   ]
  },
  {
   "cell_type": "code",
   "execution_count": null,
   "metadata": {},
   "outputs": [],
   "source": [
    "df_habe_outliers = pd.read_csv('model_rebound/preprocessing/1_habe_rename_removeoutliers.csv', delimiter =',')\n",
    "\n",
    "def average_pandas_cluster(y,cluster_number,key):\n",
    "    df_all = []\n",
    "    df_trained_partner = pd.read_csv('model_rebound/preprocessing/train_partner_independent_'+\n",
    "                                     model_name+'_'+str(y)+'.csv')\n",
    "    for i in range(0,iter_n):\n",
    "        df = pd.read_csv('model_rebound/postprocessing/predicted_' + model_name + '_' + \n",
    "                         str(y) + '_' + str(i) + '_' + \n",
    "                         str(cluster_number) + '.csv', delimiter = ',', header=None)\n",
    "        df_all.append(df)\n",
    "    glued = pd.concat(df_all, axis=1, keys=list(map(chr,range(97,97+iter_n))))\n",
    "    glued = glued.swaplevel(0, 1, axis=1)\n",
    "    glued = glued.groupby(level=0, axis=1).mean()\n",
    "    glued_new = glued.reindex(columns=df_all[0].columns)\n",
    "\n",
    "    max_income = df_habe_outliers[['disposable_income']].quantile([0.99]).values[0]\n",
    "    min_income = df_habe_outliers[['disposable_income']].quantile([0.01]).values[0]\n",
    "    glued_new['income'] = df_trained_partner[df_trained_partner.columns[-1]]\n",
    "    pd.DataFrame.to_csv(glued_new, 'model_rebound/postprocessing/predicted_' + model_name + '_' + str(y)\n",
    "                        + '_'+str(cluster_number)+'.csv', sep=',',header=None,index=False)"
   ]
  },
  {
   "cell_type": "code",
   "execution_count": null,
   "metadata": {},
   "outputs": [],
   "source": [
    "for key in scenarios:\n",
    "    list_incomechange=[0,scenarios[key]]\n",
    "    for y in list_incomechange:\n",
    "        for cluster_number in list(range(1,cluster_number_length+1)):\n",
    "            average_pandas_cluster(y,cluster_number,key)"
   ]
  },
  {
   "cell_type": "code",
   "execution_count": null,
   "metadata": {},
   "outputs": [],
   "source": [
    "def accumulate_categories_cluster(y,cluster_number):\n",
    "    df_income = pd.read_csv('model_rebound/postprocessing/predicted_' + model_name + '_' + str(y)\n",
    "                            + '_'+str(cluster_number)+'.csv', \n",
    "                            sep=',',header=None)\n",
    "#     df_income['household_size'] = df_income.iloc[:, [17]]\n",
    "    df_income['income'] = df_income.iloc[:, [16]]\n",
    "    df_income['food'] = df_income.iloc[:,[0,1,2]].sum(axis=1)\n",
    "    df_income['misc'] = df_income.iloc[:,[3,4]].sum(axis=1)\n",
    "    df_income['housing'] = df_income.iloc[:, [5, 6]].sum(axis=1)\n",
    "    df_income['services'] = df_income.iloc[:, [7, 8, 9 ]].sum(axis=1)\n",
    "    df_income['travel'] = df_income.iloc[:, [10, 11, 12, 13, 14]].sum(axis=1)\n",
    "    df_income['savings'] = df_income.iloc[:, [15]]             \n",
    "    df_income = df_income[['income','food','misc','housing','services','travel','savings']]\n",
    "    pd.DataFrame.to_csv(df_income,\n",
    "                        'model_rebound/postprocessing/predicted_' + model_name + '_' + str(y) \n",
    "                        + '_'+str(cluster_number)+'_aggregated.csv', sep=',',index=False)\n",
    "    return df_income"
   ]
  },
  {
   "cell_type": "code",
   "execution_count": null,
   "metadata": {},
   "outputs": [],
   "source": [
    "for key in scenarios:\n",
    "    list_incomechange=[0,scenarios[key]]\n",
    "    for y in list_incomechange: \n",
    "        for cluster_number in list(range(1,cluster_number_length+1)):\n",
    "            accumulate_categories_cluster(y,cluster_number)"
   ]
  },
  {
   "cell_type": "code",
   "execution_count": null,
   "metadata": {},
   "outputs": [],
   "source": [
    "# aggregation of clusters\n",
    "\n",
    "list_dfs_month=[]\n",
    "for key in scenarios:\n",
    "    list_incomechange=[0,scenarios[key]]\n",
    "    for y in list_incomechange:    \n",
    "        for cluster_number in list(range(1,cluster_number_length+1)):\n",
    "            pd_predicted_month = pd.read_csv('model_rebound/postprocessing/predicted_' + model_name + '_' + str(y) \n",
    "                                             + '_'+str(cluster_number)+'_aggregated.csv', delimiter = ',')\n",
    "            list_dfs_month.append(pd_predicted_month)\n",
    "\n",
    "        df_concat = pd.concat(list_dfs_month,sort=False)\n",
    "\n",
    "        by_row_index = df_concat.groupby(df_concat.index)\n",
    "        df_means = by_row_index.mean()\n",
    "        pd.DataFrame.to_csv(df_means,'model_rebound/postprocessing/predicted_' + model_name + '_' + str(y) + '_' + \n",
    "                            str(dependentsize) +'_aggregated.csv', sep=',',index=False)"
   ]
  },
  {
   "cell_type": "markdown",
   "metadata": {},
   "source": [
    "#### Calculate rebounds"
   ]
  },
  {
   "cell_type": "code",
   "execution_count": null,
   "metadata": {},
   "outputs": [],
   "source": [
    "list_dependent_columns = pd.read_csv(dependent_indices, delimiter=',', encoding='ISO-8859–1')['name'].to_list()\n",
    "\n",
    "def difference_new():\n",
    "    for cluster_number in list(range(1,cluster_number_length+1)):\n",
    "        for key in scenarios:\n",
    "            list_incomechange=[0,scenarios[key]]\n",
    "            for i in range(0,iter_n):\n",
    "                df_trained_partner = pd.read_csv('model_rebound/preprocessing/train_partner_independent_'+\n",
    "                                     model_name+'_'+str(y)+'.csv')\n",
    "                df_500 = pd.read_csv('model_rebound/postprocessing/predicted_' + model_name + '_'\n",
    "                                     +str(list_incomechange[1])+ '_'+str(i)\n",
    "                                     + '_'+str(cluster_number)+'.csv', delimiter=',',header=None)\n",
    "                df_0 = pd.read_csv('model_rebound/postprocessing/predicted_' + model_name + '_0_' \n",
    "                                    + str(i)  + '_'+str(cluster_number)+ '.csv', delimiter=',',header=None)\n",
    "                df_500.columns = list_dependent_columns\n",
    "                df_0.columns = df_500.columns\n",
    "                df_diff = df_500-df_0\n",
    "                df_diff['disposable_income']=df_trained_partner[df_trained_partner.columns[-1]]\n",
    "                pd.DataFrame.to_csv(df_diff,'model_rebound/postprocessing/predicted_' + model_name \n",
    "                                    + '_rebound_'+str(i)+ '_' + str(cluster_number) + '.csv',sep=',',index=False)"
   ]
  },
  {
   "cell_type": "code",
   "execution_count": null,
   "metadata": {},
   "outputs": [],
   "source": [
    "difference_new()"
   ]
  },
  {
   "cell_type": "code",
   "execution_count": null,
   "metadata": {},
   "outputs": [],
   "source": [
    "def average_clusters(key):\n",
    "    df_all = []\n",
    "    for i in range(0,iter_n):\n",
    "        df = pd.read_csv('model_rebound/postprocessing/predicted_'+ model_name + '_rebound_' + \n",
    "                         str(i)+ '_' + str(cluster_number)+'.csv',delimiter=',',index_col=None)\n",
    "        df_all.append(df)\n",
    "    \n",
    "    df_concat = pd.concat(df_all,sort=False)\n",
    "\n",
    "    by_row_index = df_concat.groupby(df_concat.index)\n",
    "    df_means = by_row_index.mean()\n",
    "    \n",
    "    pd.DataFrame.to_csv(df_means, 'model_rebound/postprocessing/predicted_'+model_name +'_rebound.csv',\n",
    "                        sep=',',index=False)"
   ]
  },
  {
   "cell_type": "code",
   "execution_count": null,
   "metadata": {},
   "outputs": [],
   "source": [
    "for key in scenarios:\n",
    "    average_clusters(key)"
   ]
  },
  {
   "cell_type": "code",
   "execution_count": null,
   "metadata": {},
   "outputs": [],
   "source": [
    "def accumulate_categories(key):\n",
    "    df_income = pd.read_csv('model_rebound/postprocessing/predicted_'+model_name+ '_rebound.csv',delimiter=',')\n",
    "#     df_income['household_size'] = df_income.iloc[:, [17]]\n",
    "    df_income['income'] = df_income.iloc[:, [16]]\n",
    "    df_income['food'] = df_income.iloc[:,[0,1,2]].sum(axis=1)\n",
    "    df_income['misc'] = df_income.iloc[:,[3,4]].sum(axis=1)\n",
    "    df_income['housing'] = df_income.iloc[:, [5, 6]].sum(axis=1)\n",
    "    df_income['services'] = df_income.iloc[:, [7, 8, 9]].sum(axis=1)\n",
    "    df_income['travel'] = df_income.iloc[:, [10, 11, 12,13, 14]].sum(axis=1)\n",
    "    df_income['savings'] = df_income.iloc[:, [15]]    \n",
    "    df_income = df_income[['income','food','misc','housing','services','travel','savings']]#'transfers','total_sum'\n",
    "    data[key]=list(df_income.mean())\n",
    "    if list(scenarios.keys()).index(key) == len(scenarios)-1:\n",
    "        df = pd.DataFrame(data, columns = [key for key in scenarios],\n",
    "                  index=['income','food','misc','housing','services','travel','savings'])\n",
    "        print(df)\n",
    "        pd.DataFrame.to_csv(df, 'postprocessing/1b_rebound/rebound_results.csv', sep=',',index=True)\n",
    "    pd.DataFrame.to_csv(df_income,\n",
    "                        'postprocessing/1b_rebound/predicted_'+model_name+ '_rebound_aggregated.csv',\n",
    "                        sep=',',index=False)"
   ]
  },
  {
   "cell_type": "code",
   "execution_count": null,
   "metadata": {},
   "outputs": [],
   "source": [
    "data={}\n",
    "for key in scenarios:\n",
    "    accumulate_categories(key)"
   ]
  },
  {
   "cell_type": "markdown",
   "metadata": {},
   "source": [
    "#### 4.Average LCA impacts <a id = 'lca-rebound'></a>\n",
    "\n",
    "<a href=\"#toc-rebound\">back</a>"
   ]
  },
  {
   "cell_type": "code",
   "execution_count": null,
   "metadata": {},
   "outputs": [],
   "source": []
  },
  {
   "cell_type": "code",
   "execution_count": null,
   "metadata": {},
   "outputs": [],
   "source": []
  },
  {
   "cell_type": "code",
   "execution_count": null,
   "metadata": {},
   "outputs": [],
   "source": []
  },
  {
   "cell_type": "markdown",
   "metadata": {},
   "source": [
    "------------------------------------------------------------------------------------------------------------------------------\n",
    "## 2. Material and renovation footprint of buildings<a id=\"toc-material-renovation\"></a>\n",
    "\n",
    "<a href=\"#toc-main\">back</a>\n",
    "\n",
    "\n",
    "TOC: \n",
    "- <a href = #material>2a. Material-based footprints</a>\n",
    "- <a href = #renovation>2b. Renovation-based footprints</a>"
   ]
  },
  {
   "cell_type": "markdown",
   "metadata": {},
   "source": [
    "### 2a. Material-based footprint <a id=\"material\"></a>\n",
    "\n",
    "<a href=\"#toc-material-renovation\">back</a>\n",
    "\n",
    "TOC:<a id=\"toc-material\"></a>\n",
    "\n",
    "- 2a.1. Building area and volume\n",
    "    - <a href = #building-data>(Approach1)</a> Taking the building area data directly from the partners\n",
    "    - <p style='color:red'><a href = #rene>(Approach2)</a> WIP: Mapping partners' to the building typology data (from <a href = 'https://www.sciencedirect.com/science/article/pii/S030626191731454X'>Rene Buffat research</a>, and from <a href='https://www.bfs.admin.ch/bfs/en/home/registers/federal-register-buildings-dwellings.html'>Federal register of buildings</a>)</p>\n",
    "- <a href = #material-impact>2a.2. Associating to the material intensity and impacts</a> (The material intensity used here is derived from the <a href='https://www.nature.com/articles/s41597-019-0021-x'>research by Niko Heeren & Tomer Fishman</a> )\n",
    "- <a href = #apartment>2a.3. Getting the results down to the apartment area</a>"
   ]
  },
  {
   "cell_type": "markdown",
   "metadata": {},
   "source": [
    "**<p style=\"color:blue\">USER INPUT NEEDED: CHOOSE <a href=\"#building-data\">OPTION 1</a> OR <a href=\"#rene\">OPTION 2</a></p>**\n",
    "\n",
    "### 2a.1. Building area and volume <a id=\"building-data\"></a>\n",
    "\n",
    "<a href=\"#toc-material\">back</a>"
   ]
  },
  {
   "cell_type": "code",
   "execution_count": 32,
   "metadata": {},
   "outputs": [
    {
     "ename": "KeyError",
     "evalue": "\"['Building total apartment area'] not in index\"",
     "output_type": "error",
     "traceback": [
      "\u001b[0;31m---------------------------------------------------------------------------\u001b[0m",
      "\u001b[0;31mKeyError\u001b[0m                                  Traceback (most recent call last)",
      "\u001b[0;32m<ipython-input-32-959b049b32ae>\u001b[0m in \u001b[0;36m<module>\u001b[0;34m\u001b[0m\n\u001b[1;32m      4\u001b[0m \u001b[0;34m\u001b[0m\u001b[0m\n\u001b[1;32m      5\u001b[0m \u001b[0mpd_owner_building_area\u001b[0m \u001b[0;34m=\u001b[0m \u001b[0mpd_dwelling_data\u001b[0m\u001b[0;34m.\u001b[0m\u001b[0mgroupby\u001b[0m\u001b[0;34m(\u001b[0m\u001b[0;34m[\u001b[0m\u001b[0;34m'building id'\u001b[0m\u001b[0;34m]\u001b[0m\u001b[0;34m,\u001b[0m \u001b[0mas_index\u001b[0m\u001b[0;34m=\u001b[0m\u001b[0;32mFalse\u001b[0m\u001b[0;34m)\u001b[0m\u001b[0;34m.\u001b[0m\u001b[0msum\u001b[0m\u001b[0;34m(\u001b[0m\u001b[0;34m)\u001b[0m\u001b[0;34m\u001b[0m\u001b[0;34m\u001b[0m\u001b[0m\n\u001b[0;32m----> 6\u001b[0;31m \u001b[0mpd_owner_building_area\u001b[0m\u001b[0;34m=\u001b[0m\u001b[0mpd_owner_building_area\u001b[0m\u001b[0;34m[\u001b[0m\u001b[0;34m[\u001b[0m\u001b[0;34m'building id'\u001b[0m\u001b[0;34m,\u001b[0m\u001b[0;34m'Building total apartment area'\u001b[0m\u001b[0;34m]\u001b[0m\u001b[0;34m]\u001b[0m\u001b[0;34m\u001b[0m\u001b[0;34m\u001b[0m\u001b[0m\n\u001b[0m\u001b[1;32m      7\u001b[0m pd.DataFrame.to_csv(pd_owner_building_area,'postprocessing/2a_material/2_building_area.csv',\n\u001b[1;32m      8\u001b[0m                             sep=',', encoding='ISO-8859–1')\n",
      "\u001b[0;32m~/miniconda3/envs/integration-building-model/lib/python3.8/site-packages/pandas/core/frame.py\u001b[0m in \u001b[0;36m__getitem__\u001b[0;34m(self, key)\u001b[0m\n\u001b[1;32m   2906\u001b[0m             \u001b[0;32mif\u001b[0m \u001b[0mis_iterator\u001b[0m\u001b[0;34m(\u001b[0m\u001b[0mkey\u001b[0m\u001b[0;34m)\u001b[0m\u001b[0;34m:\u001b[0m\u001b[0;34m\u001b[0m\u001b[0;34m\u001b[0m\u001b[0m\n\u001b[1;32m   2907\u001b[0m                 \u001b[0mkey\u001b[0m \u001b[0;34m=\u001b[0m \u001b[0mlist\u001b[0m\u001b[0;34m(\u001b[0m\u001b[0mkey\u001b[0m\u001b[0;34m)\u001b[0m\u001b[0;34m\u001b[0m\u001b[0;34m\u001b[0m\u001b[0m\n\u001b[0;32m-> 2908\u001b[0;31m             \u001b[0mindexer\u001b[0m \u001b[0;34m=\u001b[0m \u001b[0mself\u001b[0m\u001b[0;34m.\u001b[0m\u001b[0mloc\u001b[0m\u001b[0;34m.\u001b[0m\u001b[0m_get_listlike_indexer\u001b[0m\u001b[0;34m(\u001b[0m\u001b[0mkey\u001b[0m\u001b[0;34m,\u001b[0m \u001b[0maxis\u001b[0m\u001b[0;34m=\u001b[0m\u001b[0;36m1\u001b[0m\u001b[0;34m,\u001b[0m \u001b[0mraise_missing\u001b[0m\u001b[0;34m=\u001b[0m\u001b[0;32mTrue\u001b[0m\u001b[0;34m)\u001b[0m\u001b[0;34m[\u001b[0m\u001b[0;36m1\u001b[0m\u001b[0;34m]\u001b[0m\u001b[0;34m\u001b[0m\u001b[0;34m\u001b[0m\u001b[0m\n\u001b[0m\u001b[1;32m   2909\u001b[0m \u001b[0;34m\u001b[0m\u001b[0m\n\u001b[1;32m   2910\u001b[0m         \u001b[0;31m# take() does not accept boolean indexers\u001b[0m\u001b[0;34m\u001b[0m\u001b[0;34m\u001b[0m\u001b[0;34m\u001b[0m\u001b[0m\n",
      "\u001b[0;32m~/miniconda3/envs/integration-building-model/lib/python3.8/site-packages/pandas/core/indexing.py\u001b[0m in \u001b[0;36m_get_listlike_indexer\u001b[0;34m(self, key, axis, raise_missing)\u001b[0m\n\u001b[1;32m   1252\u001b[0m             \u001b[0mkeyarr\u001b[0m\u001b[0;34m,\u001b[0m \u001b[0mindexer\u001b[0m\u001b[0;34m,\u001b[0m \u001b[0mnew_indexer\u001b[0m \u001b[0;34m=\u001b[0m \u001b[0max\u001b[0m\u001b[0;34m.\u001b[0m\u001b[0m_reindex_non_unique\u001b[0m\u001b[0;34m(\u001b[0m\u001b[0mkeyarr\u001b[0m\u001b[0;34m)\u001b[0m\u001b[0;34m\u001b[0m\u001b[0;34m\u001b[0m\u001b[0m\n\u001b[1;32m   1253\u001b[0m \u001b[0;34m\u001b[0m\u001b[0m\n\u001b[0;32m-> 1254\u001b[0;31m         \u001b[0mself\u001b[0m\u001b[0;34m.\u001b[0m\u001b[0m_validate_read_indexer\u001b[0m\u001b[0;34m(\u001b[0m\u001b[0mkeyarr\u001b[0m\u001b[0;34m,\u001b[0m \u001b[0mindexer\u001b[0m\u001b[0;34m,\u001b[0m \u001b[0maxis\u001b[0m\u001b[0;34m,\u001b[0m \u001b[0mraise_missing\u001b[0m\u001b[0;34m=\u001b[0m\u001b[0mraise_missing\u001b[0m\u001b[0;34m)\u001b[0m\u001b[0;34m\u001b[0m\u001b[0;34m\u001b[0m\u001b[0m\n\u001b[0m\u001b[1;32m   1255\u001b[0m         \u001b[0;32mreturn\u001b[0m \u001b[0mkeyarr\u001b[0m\u001b[0;34m,\u001b[0m \u001b[0mindexer\u001b[0m\u001b[0;34m\u001b[0m\u001b[0;34m\u001b[0m\u001b[0m\n\u001b[1;32m   1256\u001b[0m \u001b[0;34m\u001b[0m\u001b[0m\n",
      "\u001b[0;32m~/miniconda3/envs/integration-building-model/lib/python3.8/site-packages/pandas/core/indexing.py\u001b[0m in \u001b[0;36m_validate_read_indexer\u001b[0;34m(self, key, indexer, axis, raise_missing)\u001b[0m\n\u001b[1;32m   1302\u001b[0m             \u001b[0;32mif\u001b[0m \u001b[0mraise_missing\u001b[0m\u001b[0;34m:\u001b[0m\u001b[0;34m\u001b[0m\u001b[0;34m\u001b[0m\u001b[0m\n\u001b[1;32m   1303\u001b[0m                 \u001b[0mnot_found\u001b[0m \u001b[0;34m=\u001b[0m \u001b[0mlist\u001b[0m\u001b[0;34m(\u001b[0m\u001b[0mset\u001b[0m\u001b[0;34m(\u001b[0m\u001b[0mkey\u001b[0m\u001b[0;34m)\u001b[0m \u001b[0;34m-\u001b[0m \u001b[0mset\u001b[0m\u001b[0;34m(\u001b[0m\u001b[0max\u001b[0m\u001b[0;34m)\u001b[0m\u001b[0;34m)\u001b[0m\u001b[0;34m\u001b[0m\u001b[0;34m\u001b[0m\u001b[0m\n\u001b[0;32m-> 1304\u001b[0;31m                 \u001b[0;32mraise\u001b[0m \u001b[0mKeyError\u001b[0m\u001b[0;34m(\u001b[0m\u001b[0;34mf\"{not_found} not in index\"\u001b[0m\u001b[0;34m)\u001b[0m\u001b[0;34m\u001b[0m\u001b[0;34m\u001b[0m\u001b[0m\n\u001b[0m\u001b[1;32m   1305\u001b[0m \u001b[0;34m\u001b[0m\u001b[0m\n\u001b[1;32m   1306\u001b[0m             \u001b[0;31m# we skip the warning on Categorical\u001b[0m\u001b[0;34m\u001b[0m\u001b[0;34m\u001b[0m\u001b[0;34m\u001b[0m\u001b[0m\n",
      "\u001b[0;31mKeyError\u001b[0m: \"['Building total apartment area'] not in index\""
     ]
    }
   ],
   "source": [
    "pd_dwelling_data = pd.read_csv('raw/1_dwelling_data.csv',sep=',')\n",
    "pd_owner_building = pd_dwelling_data.drop_duplicates(subset=['building id'])\n",
    "pd.DataFrame.to_csv(pd_owner_building,'raw/2_building_owners_data.csv', sep=',', encoding='ISO-8859–1')\n",
    "\n",
    "pd_owner_building_area = pd_dwelling_data.groupby(['building id'], as_index=False).sum()\n",
    "pd_owner_building_area=pd_owner_building_area[['building id','Building total apartment area']]\n",
    "pd.DataFrame.to_csv(pd_owner_building_area,'postprocessing/2a_material/2_building_area.csv',\n",
    "                            sep=',', encoding='ISO-8859–1')\n",
    "\n",
    "\n",
    "#also rewrite the building area column of dwelling file \n",
    "pd_dwelling_data=pd.merge(pd_dwelling_data,pd_owner_building_area,on='building id')\n",
    "pd_dwelling_data=pd_dwelling_data.drop(['Building total apartment area_x'],axis=1)\n",
    "pd.DataFrame.to_csv(pd_dwelling_data,'raw/1_dwelling_data.csv',sep=',')\n",
    "\n",
    "pd_owner_building_area\n",
    "pd_dwelling_data"
   ]
  },
  {
   "cell_type": "markdown",
   "metadata": {},
   "source": [
    "**<a href=\"#rene\">OPTION 2</a></p>** or jump to <a href=\"#material-impact\">2.2. material footprint</a>"
   ]
  },
  {
   "cell_type": "markdown",
   "metadata": {},
   "source": [
    "### 2a.1. Building area, height and volume (Buffat et al's model)<a id=\"rene\"></a>\n",
    "**<p style='color:red'> WIP </p>**\n",
    "\n",
    "<a href=\"#toc-material\">back</a>"
   ]
  },
  {
   "cell_type": "code",
   "execution_count": null,
   "metadata": {},
   "outputs": [],
   "source": [
    "## TO DO - run the section below with GWS first and then this section with the Rene's model to merge the volume \n",
    "# (or make them work together)"
   ]
  },
  {
   "cell_type": "code",
   "execution_count": null,
   "metadata": {},
   "outputs": [],
   "source": [
    "## merge apartments into buildings (drop the duplicate building id columns and drop the duplicate egids/coordinates)\n",
    "\n",
    "def partner_dropduplicate_egid(partners):\n",
    "    for partner in partners:\n",
    "        df_partner_raw_egid = pd.read_csv('raw/raw_partner_files/'+partner+'_EGIDEWID.csv', \n",
    "                                          delimiter=',', error_bad_lines=False, encoding='ISO-8859–1')\n",
    "        df_partner_raw_egid = df_partner_raw_egid.drop_duplicates(subset = ['EGID'])\n",
    "        pd.DataFrame.to_csv(df_partner_raw_egid,'postprocessing/2a_material/2a_'+partner+'_dropduplicate_egid.csv',\n",
    "                            sep=',', encoding='ISO-8859–1')\n",
    "\n",
    "partner_dropduplicate_egid(['ABZ','SCHL'])\n",
    "\n",
    "def partner_dropduplicate_coordinates(partners):\n",
    "    for partner in partners:\n",
    "        df_partner_raw_coordinates = pd.read_csv('raw/raw_partner_files/'+partner+'_coordinates.csv', \n",
    "                                                 delimiter=',', error_bad_lines=False, encoding='ISO-8859–1')\n",
    "        df_partner_raw_coordinates = df_partner_raw_coordinates.drop_duplicates(subset = ['GKODES','GKODNS'])\n",
    "        pd.DataFrame.to_csv(df_partner_raw_coordinates,'postprocessing/2a_material/2a_'+partner+'_dropduplicate_coordinates.csv',\n",
    "                            sep=',', encoding='ISO-8859–1')\n",
    "\n",
    "partner_dropduplicate_coordinates(['ABZ','SCHL','SM'])"
   ]
  },
  {
   "cell_type": "code",
   "execution_count": null,
   "metadata": {},
   "outputs": [],
   "source": [
    "## optional to run - only run if the file is NOT present \n",
    "def truncate_buildinginfo():\n",
    "    df_buildinginfo_raw = pd.read_csv('raw/model_rene_buildinginfo/Buildinginfo.csv', delimiter=',', \n",
    "                              error_bad_lines=False, encoding='ISO-8859–1')\n",
    "    print(list(df_buildinginfo_raw.columns))\n",
    "    df_buildinginfo_raw = df_buildinginfo_raw[['btype','bid','bfsnr','x','y','elevation','area','volume',\n",
    "                                               'avg_height','perimeter']]\n",
    "    pd.DataFrame.to_csv(df_buildinginfo_raw, 'raw/model_rene_buildinginfo/Buildinginfo_truncated.csv')\n",
    "\n",
    "truncate_buildinginfo()"
   ]
  },
  {
   "cell_type": "code",
   "execution_count": null,
   "metadata": {},
   "outputs": [],
   "source": [
    "# attach to the owner ABM building-id files (based on the year and the partner, call the relevant 2c file to match)\n",
    "def matchbuildinginfo_coordinates(partner,year):\n",
    "    df_buildinginfo_raw = pd.read_csv('model_rene_buildinginfo/Buildinginfo_truncated.csv', delimiter=',', \n",
    "                              error_bad_lines=False, encoding='ISO-8859–1')\n",
    "    pd_partner = pd.read_csv('raw/2c_'+ partner + '_' + str(year) + '_coordinates.csv', delimiter=',', \n",
    "                              error_bad_lines=False, encoding='ISO-8859–1')\n",
    "    pd_material_partner = pd.merge(df_buildinginfo_raw,pd_partner,right_on=['GKODES','GKODNS'],left_on=['x','y'])\n",
    "    pd.DataFrame.to_csv(pd_material_partner,'raw/2d_'+ partner + '_' + str(year) + '_coordinates.csv')\n",
    "    \n",
    "def matchbuildinginfo_NN(partner,year):\n",
    "    df_buildinginfo_raw = pd.read_csv('model_rene_buildinginfo/Buildinginfo_truncated.csv', delimiter=',', \n",
    "                              error_bad_lines=False, encoding='ISO-8859–1')\n",
    "    pd_partner = pd.read_csv('raw/2c_'+ partner + '_' + str(year) + '_coordinates_NN.csv', delimiter=',', \n",
    "                              error_bad_lines=False, encoding='ISO-8859–1')\n",
    "    pd_material_partner = pd.merge(df_buildinginfo_raw,pd_partner,right_on=['gkodx_new','gkody_new'],left_on=['x','y'])\n",
    "    pd.DataFrame.to_csv(pd_material_partner,'raw/2d_'+ partner + '_' + str(year) + '_coordinates_NN.csv')\n",
    "\n",
    "# attach to the owner ABM building-id files (based on the year and the partner, call the relevant 2c file to match)\n",
    "def matchbuildinginfo_egid(partner,year):\n",
    "    df_buildinginfo_raw = pd.read_csv('model_rene_buildinginfo/Buildinginfo_truncated.csv', delimiter=',', \n",
    "                              error_bad_lines=False, encoding='ISO-8859–1') \n",
    "    #TODO add the merged version from coordinates\n",
    "    \n",
    "    pd_partner = pd.read_csv('raw/2c_'+ partner + '_' + str(year) + '_egid.csv', delimiter=',', \n",
    "                              error_bad_lines=False, encoding='ISO-8859–1')\n",
    "    pd_material_partner = pd.merge(df_buildinginfo_raw,pd_partner,right_on=['egid'],left_on=['EGID_GWS'])\n",
    "    pd.DataFrame.to_csv(pd_material_partner,'raw/2d_'+ partner + '_' + str(year) + '_egid.csv')\n",
    "    \n",
    "for partner in ('ABZ', 'SCHL'):\n",
    "    for year in (2015, 2016, 2017):\n",
    "        matchbuildinginfo_coordinates(partner,year)\n",
    "        \n",
    "for partner in (['SM']):\n",
    "    for year in (2013,2014,2015,2016,2017):\n",
    "        matchbuildinginfo_NN(partner,year)\n",
    "        \n",
    "for partner in ('ABZ', 'SCHL'):\n",
    "    for year in (2013,2014):\n",
    "        matchbuildinginfo_egid(partner,year)"
   ]
  },
  {
   "cell_type": "markdown",
   "metadata": {},
   "source": [
    "#### GWS mapping to partner data (for other parameters like occupants, etc.)<a id=\"gws\"></a>\n",
    "\n",
    "<a href=\"#toc-material\">back</a>"
   ]
  },
  {
   "cell_type": "code",
   "execution_count": null,
   "metadata": {},
   "outputs": [],
   "source": [
    "# attach the EGID/coordinate data to the files from ABM owner part (with building ids)\n",
    "\n",
    "def partner_ownerABM_attach(partners,matchingstyle):\n",
    "    for partner in partners:\n",
    "        df_partner_raw_drop = pd.read_csv('postprocessing/2a_material/2a_'+partner+'_dropduplicate_'+matchingstyle+'.csv',\n",
    "                                      error_bad_lines=False, encoding='ISO-8859–1')\n",
    "\n",
    "        if partner == 'ABZ':\n",
    "            pd_owner_building_egid = pd.merge(pd_owner_building,df_partner_raw_drop, \n",
    "                                              left_on=['Settlment id', 'Street address'],\n",
    "                                              right_on=['Immobilien-Nr.', 'Hauseingang']) \n",
    "            \n",
    "            ## ********TODO - check with Margarita if these are the same settlement ids*************\n",
    "\n",
    "        if partner == 'SCHL':\n",
    "            pd_owner_building_egid = pd.merge(pd_owner_building,df_partner_raw_drop, \n",
    "                                              left_on=['Settlment id', 'Street address'],\n",
    "                                              right_on=['z', 'Adresse']) \n",
    "            \n",
    "            ## ********TODO - check with Margarita if these are the same settlement ids*************\n",
    "            \n",
    "        if partner == 'SM':\n",
    "            pd_owner_building_egid = pd.merge(pd_owner_building,df_partner_raw_drop, \n",
    "                                  left_on=['Settlment id', 'Street address'],\n",
    "                                  right_on=['ID', 'Corrected Address']) \n",
    "            \n",
    "        pd.DataFrame.to_csv(pd_owner_building_egid, 'postprocessing/2a_material/2b_'+partner+'_ownerABM_'+matchingstyle+'.csv',\n",
    "                            sep=',', encoding='ISO-8859–1')\n",
    "\n",
    "partner_ownerABM_attach(['ABZ','SCHL','SM'],'coordinates')\n",
    "partner_ownerABM_attach(['ABZ','SCHL'],'egid')"
   ]
  },
  {
   "cell_type": "code",
   "execution_count": null,
   "metadata": {},
   "outputs": [],
   "source": [
    "## attach the building properties from GWS data\n",
    "\n",
    "## match with egid values\n",
    "\n",
    "def match_by_egid(partner,year):\n",
    "    df_GWS_GEB = pd.read_csv('raw/raw_GWS/GWS'+str(year)+'_GEB.txt', delimiter=';', \n",
    "                             error_bad_lines=False,encoding='ISO-8859–1')\n",
    "    \n",
    "    df_partner_raw = pd.read_csv('raw/2b_'+partner+'_ownerABM_egid.csv', delimiter=',', \n",
    "                                    error_bad_lines=False,encoding='ISO-8859–1')\n",
    "    \n",
    "    df_GWS_partner_egid = pd.merge(df_partner_raw, df_GWS_GEB, left_on=['EGID_GWS'], right_on=['egid'])\n",
    "    \n",
    "    pd.DataFrame.to_csv(df_GWS_partner_egid, 'raw/2c_' + partner + '_'+ str(year)+'_egid.csv', \n",
    "                        sep=',', encoding='ISO-8859–1')\n",
    "\n",
    "\n",
    "    ## optional part - to increase the speed - and only check for specific cantons (NOTE: not applicable for SM)\n",
    "    if partner =='ABZ':\n",
    "        df_GWS_GEB=df_GWS_GEB[df_GWS_GEB['GDEKT'] == 'VD']\n",
    "        \n",
    "    if partner =='SCHL':\n",
    "        df_GWS_GEB = df_GWS_GEB[df_GWS_GEB['GDEKT'] == 'ZH']\n",
    "        \n",
    "        \n",
    "    df_GWS_partner_egid = pd.merge(df_partner_raw, df_GWS_GEB, left_on=['EGID_GWS'], right_on=['egid'])\n",
    "    \n",
    "    pd.DataFrame.to_csv(df_GWS_partner_egid,'raw/2c_'+partner+'_'+str(year)+'_egid_canton.csv',\n",
    "                        sep=',',encoding='ISO-8859–1')"
   ]
  },
  {
   "cell_type": "code",
   "execution_count": null,
   "metadata": {},
   "outputs": [],
   "source": [
    "# only for year 2013,2014 and ABZ, SCHL - match the EGID values, for rest need to match by (nearest neighbor) geocoordinates\n",
    "for partner in ('ABZ', 'SCHL'):\n",
    "    for year in (2013,2014):\n",
    "        match_by_egid(partner,year)"
   ]
  },
  {
   "cell_type": "code",
   "execution_count": null,
   "metadata": {},
   "outputs": [],
   "source": [
    "## match with coordinate values\n",
    "\n",
    "def matchcoordinates(partner,year):\n",
    "    df_GWS_GEB = pd.read_csv('raw/raw_GWS/GWS'+str(year)+'_GEB.txt', delimiter=';', \n",
    "                             error_bad_lines=False,encoding='ISO-8859–1')\n",
    "        \n",
    "    df_partner_raw = pd.read_csv('raw/2b_'+partner+'_ownerABM_coordinates.csv', delimiter=',', \n",
    "                                    error_bad_lines=False,encoding='ISO-8859–1')\n",
    "    \n",
    "    df_partner_raw[\"GKODES\"] = df_partner_raw[\"GKODES\"].astype('int64')\n",
    "    df_partner_raw[\"GKODNS\"] = df_partner_raw[\"GKODNS\"].astype('int64')\n",
    "    \n",
    "    df_GWS_partner_coordinates = pd.merge(df_GWS_GEB, df_partner_raw, left_on=['GKODES', 'GKODNS'],\n",
    "                              right_on=['GKODES', 'GKODNS'])\n",
    "    \n",
    "    pd.DataFrame.to_csv(df_GWS_partner_coordinates, 'raw/2c_'+ partner + '_' + str(year) + '_coordinates.csv',\n",
    "                        sep=',', encoding='ISO-8859–1')"
   ]
  },
  {
   "cell_type": "code",
   "execution_count": null,
   "metadata": {},
   "outputs": [],
   "source": [
    "# for year 2015,2016,2017 and for ABZ,SCHl - match by geocoordinates\n",
    "\n",
    "for partner in ('ABZ', 'SCHL'):\n",
    "    for year in (2015, 2016, 2017):\n",
    "        matchcoordinates(partner,year)"
   ]
  },
  {
   "cell_type": "code",
   "execution_count": null,
   "metadata": {},
   "outputs": [],
   "source": [
    "def closest_node(node, nodes):\n",
    "    nodes = np.asarray(nodes)\n",
    "    dist_2 = np.sum((nodes - node)**2, axis=1)\n",
    "    return np.argmin(dist_2)\n",
    "\n",
    "def match_nn(partner,year):\n",
    "    df_GWS_GEB = pd.read_csv('raw/raw_GWS/GWS'+str(year)+'_GEB.txt', delimiter=';', \n",
    "                             error_bad_lines=False,encoding='ISO-8859–1')\n",
    "        \n",
    "    df_partner_GWS_raw = pd.read_csv('raw/2b_'+partner+'_ownerABM_coordinates.csv', delimiter=',',\n",
    "                                    error_bad_lines=False,encoding='ISO-8859–1')\n",
    "    nodes = []\n",
    "    for i in range(0, df_GWS_GEB.shape[0]):\n",
    "        node = np.array([df_GWS_GEB.iloc[i][\"GKODES\"], df_GWS_GEB.iloc[i][\"GKODNS\"]])\n",
    "        nodes.append(node)\n",
    "        \n",
    "    for i in range(df_partner_GWS_raw.shape[0]):\n",
    "        node = np.array([df_partner_GWS_raw.iloc[i][\"GKODES\"], \n",
    "                         df_partner_GWS_raw.iloc[i][\"GKODNS\"]])\n",
    "        x = closest_node(node, nodes)\n",
    "        df_partner_GWS_raw.at[i,\"min_distance_index\"] = closest_node(node, nodes)\n",
    "        df_partner_GWS_raw.at[i,\"gkodx_new\"] = df_GWS_GEB.iloc[x][\"GKODES\"]\n",
    "        df_partner_GWS_raw.at[i,\"gkody_new\"] = df_GWS_GEB.iloc[x][\"GKODNS\"]\n",
    "#         df_pd_partner_coordinates.at[i, \"GAPTO_\"+str(year)] = df_GWS_GEB.iloc[x][\"GAPTO\"] #to calculate occupants in that year\n",
    "#         df_pd_partner_coordinates[\"garea_new\"] = df_GWS_GEB.iloc[j][\"garea\"] #to calculate size of building in that year\n",
    "        \n",
    "    pd.DataFrame.to_csv(df_partner_GWS_raw,'raw/2c_'+partner+'_'+str(year)+'_coordinates_NN.csv', \n",
    "                        sep=',', encoding='ISO-8859–1')"
   ]
  },
  {
   "cell_type": "code",
   "execution_count": null,
   "metadata": {},
   "outputs": [],
   "source": [
    "# for SM (all years) match by nearest neighbor geocoordinates\n",
    "for partner in (['SM']):\n",
    "    for year in (2013,2014,2015,2016,2017):\n",
    "        match_nn(partner,year)"
   ]
  },
  {
   "cell_type": "markdown",
   "metadata": {},
   "source": [
    "### 2a.2. material footprint of buildings<a id=\"material-impact\"></a>\n",
    "\n",
    "<a href=\"#toc-material\">back</a>"
   ]
  },
  {
   "cell_type": "code",
   "execution_count": null,
   "metadata": {},
   "outputs": [],
   "source": [
    "## multiply building volume with material intensity and get material weights\n",
    "pd_material_impact = pd.read_csv('model_material/intensity_material.csv',sep=',',index_col=0)\n",
    "pd_material_impact = pd_material_impact.T\n",
    "pd_material_impact_columns=list(pd_material_impact.columns)\n",
    "print(list(pd_material_impact.columns),'\\n',list(pd_material_impact.loc['kgco2-eq/ m2']))"
   ]
  },
  {
   "cell_type": "code",
   "execution_count": null,
   "metadata": {},
   "outputs": [],
   "source": [
    "## get the material weight per apartment based on apartment volume\n",
    "\n",
    "pd_material = pd.read_csv('postprocessing/2a_material/2_building_area.csv',sep=',')\n",
    "for i in pd_material_impact_columns:\n",
    "    pd_material[i]=pd_material['Building total apartment area']*pd_material_impact.loc['kgco2-eq/ m2'][i]\n",
    "pd_material['total_material_fp']=pd_material[pd_material_impact_columns].sum(axis=1)\n",
    "pd.DataFrame.to_csv(pd_material.drop('Unnamed: 0',axis=1),'postprocessing/2a_material/2_material_building_footprint.csv',sep=',')\n",
    "pd_material.drop('Unnamed: 0',axis=1)"
   ]
  },
  {
   "cell_type": "markdown",
   "metadata": {},
   "source": [
    "### 2a.3. Material footprint of apartments<a id=\"apartment\"></a>\n",
    "\n",
    "<a href=\"#toc-material\">back</a>"
   ]
  },
  {
   "cell_type": "code",
   "execution_count": null,
   "metadata": {},
   "outputs": [],
   "source": [
    "## get the material footprint (apartment) based on building vs apartment area\n",
    "pd_material_apart= pd.read_csv('raw/1_dwelling_data.csv', sep=',', encoding='ISO-8859–1')\n",
    "pd_owner_building_area= pd.read_csv('postprocessing/2a_material/2_building_area.csv',\n",
    "                            sep=',', encoding='ISO-8859–1')\n",
    "for i in pd_material_impact_columns:\n",
    "    pd_material_apart[i] =pd_material_apart['Dwelling area']*pd_material_impact.loc['kgco2-eq/ m2'][i]\n",
    "pd_material_apart['total_material_fp']=pd_material_apart[pd_material_impact_columns].sum(axis=1)\n",
    "pd.DataFrame.to_csv(pd_material_apart.drop('Unnamed: 0',axis=1),\n",
    "                    'postprocessing/2a_material/2_material_apartment_footprint.csv',sep=',')\n",
    "pd_material_apart"
   ]
  },
  {
   "cell_type": "code",
   "execution_count": null,
   "metadata": {},
   "outputs": [],
   "source": [
    "# get material footrpint per year \n",
    "pd_material_apart['total_material_fp_year'] = pd_material_apart['total_material_fp'] / (2020 - pd_material_apart['Building Construction year'])\n",
    "pd.DataFrame.to_csv(pd_material_apart.drop('Unnamed: 0',axis=1),\n",
    "                    'postprocessing/2a_material/2_material_apartment_footprint.csv',sep=',')\n",
    "pd_material_apart"
   ]
  },
  {
   "cell_type": "code",
   "execution_count": null,
   "metadata": {},
   "outputs": [],
   "source": [
    "pd_material_apart[['total_material_fp_year']].median()"
   ]
  },
  {
   "cell_type": "code",
   "execution_count": null,
   "metadata": {},
   "outputs": [],
   "source": [
    "pd_material_apart=pd_material_apart[(pd_material_apart[['total_material_fp_year']] > -300).all(1)]\n",
    "pd_material_apart[['total_material_fp_year']].median()"
   ]
  },
  {
   "cell_type": "markdown",
   "metadata": {},
   "source": [
    "-----------------------------------------------------------------------------------------------------------------------------\n",
    "## 2b. Renovation footprints  <a id=\"renovation\"></a>\n",
    "\n",
    "<a href=\"#toc-material-renovation\">back</a>\n"
   ]
  },
  {
   "cell_type": "code",
   "execution_count": null,
   "metadata": {},
   "outputs": [],
   "source": []
  },
  {
   "cell_type": "code",
   "execution_count": null,
   "metadata": {},
   "outputs": [],
   "source": []
  },
  {
   "cell_type": "code",
   "execution_count": null,
   "metadata": {},
   "outputs": [],
   "source": []
  },
  {
   "cell_type": "markdown",
   "metadata": {},
   "source": [
    "## 3. Energy demand and footprint <a id=\"energy\"></a>\n",
    "\n",
    "<a href=\"#toc-main\">back</a>\n",
    "\n",
    "TOC:<a id=\"#toc-energy\"></a>\n",
    "- <a href=\"heat\">Step 3.a. Heat energy based footrpint of apartment</a>\n",
    "- <a href=\"ww\">Step 3.b. Warm water based footrpint of apartment</a>"
   ]
  },
  {
   "cell_type": "markdown",
   "metadata": {},
   "source": [
    "### 3.a. Heat energy based footrpint <a id=\"heat\"></a>\n",
    "\n",
    "The model, called as <a href=\"https://www.scopus.com/record/display.uri?eid=2-s2.0-85076259074&origin=inward&txGid=67727348b41d9ae4dc4b55e19b8b2646\">BEEF</a> (building energy environmental footprint) is developed by Rene Buffat and Andreas Froemelt.\n",
    "\n",
    "<a href=\"#toc-energy\">back</a>"
   ]
  },
  {
   "cell_type": "markdown",
   "metadata": {},
   "source": [
    "<p style='color:red'>WIP: RUnning the beef model directly based on the inputs</p>\n",
    "\n",
    "- run the beef model by going to the right environment (beef_model/bin/activate) -> activate it. \n",
    "- for a quick fix to run the model, the existing run results and outputs are directly passed here and the subset of results are used"
   ]
  },
  {
   "cell_type": "code",
   "execution_count": null,
   "metadata": {},
   "outputs": [],
   "source": [
    "## pass the building ids and the building details to BEEF model (get heating demand)\n",
    "df_beef = pd.read_csv('model_beef/x-model_beef_energy/Beef_heatingdemand.csv', delimiter=',', \n",
    "                          error_bad_lines=False, encoding='ISO-8859–1')\n",
    "\n",
    "df_beef = df_beef[['btype', 'bid', 'bfsnr', 'ebf', 'egid', 'x', 'y', 'wall_method','heatdemand_y_median']]\n",
    "df_beef['total_heatdemand_median'] = df_beef['ebf']*df_beef['heatdemand_y_median']\n",
    "pd.DataFrame.to_csv(df_beef, 'model_beef/x-model_beef_energy/Buildinginfo_truncated.csv')\n",
    "print(df_beef.head())"
   ]
  },
  {
   "cell_type": "code",
   "execution_count": null,
   "metadata": {},
   "outputs": [],
   "source": [
    "## match the partner egids and geocoordinates with the beef model results\n",
    "\n",
    "pd_partners_EGID_coordinates = pd.read_csv('raw/raw_partner_files/Partner_EGID_coordinates_'+str(Strategy_no)+'.csv', delimiter=',', \n",
    "                              error_bad_lines=False, encoding='ISO-8859–1')\n",
    "\n",
    "#write file by matching egids for buildings\n",
    "pd_energy_partner = pd.merge(df_beef,pd_partners_EGID_coordinates,left_on=['egid'],right_on=['EGID'])\n",
    "pd_energy_partner=pd_energy_partner.rename(columns={'total_heatdemand_median':'heatdemand_median_egid'})\n",
    "\n",
    "print('egid_matching',pd_energy_partner.shape)\n",
    "\n",
    "pd.DataFrame.to_csv(pd_energy_partner,'postprocessing/2b_energy/2b_energy_demand_egid.csv',sep=',', encoding='ISO-8859–1')\n",
    "\n",
    "\n",
    "#write file by matching coordinates fro buildings\n",
    "pd_energy_partner_coordinates= pd.merge(df_beef,pd_partners_EGID_coordinates,left_on=['x','y'],right_on=['GKODES','GKODNS'])\n",
    "pd_energy_partner_coordinates= pd_energy_partner_coordinates.rename(columns={'total_heatdemand_median':'heatdemand_median_coordinates'})\n",
    "print('coordinate_matching',pd_energy_partner_coordinates.shape)\n",
    "\n",
    "pd.DataFrame.to_csv(pd_energy_partner_coordinates,'postprocessing/2b_energy/2b_energy_demand_coordinates.csv',\n",
    "                    sep=',', encoding='ISO-8859–1')\n",
    "\n",
    "\n",
    "#write final file with all energy heating demands for buildings\n",
    "pd_energy = pd.concat([pd_energy_partner,pd_energy_partner_coordinates])\n",
    "pd_energy['heatdemand']=pd_energy[['heatdemand_median_egid','heatdemand_median_coordinates']].max(axis=1)\n",
    "pd_energy=pd_energy.drop_duplicates(subset=['Partner', 'Immobilien-Nr.', 'EGID','bid','bfsnr','wall_method'])\n",
    "print('all_matching',pd_energy.shape)\n",
    "\n",
    "pd.DataFrame.to_csv(pd_energy,'postprocessing/2b_energy/2b_energy_demand.csv',sep=',', encoding='ISO-8859–1')\n",
    "\n",
    "# add heat demand per settlement \n",
    "pd_energy_settlement = pd_energy.groupby(['Settlement ID'],as_index=False)['heatdemand'].sum()\n",
    "print('all_matching_settlements',pd_energy_settlement.shape)\n",
    "pd.DataFrame.to_csv(pd_energy_settlement,'postprocessing/2b_energy/2b_energy_demand_settlement.csv',\n",
    "                    sep=',', encoding='ISO-8859–1')\n",
    "\n",
    "pd_energy_settlement"
   ]
  },
  {
   "cell_type": "code",
   "execution_count": null,
   "metadata": {},
   "outputs": [],
   "source": [
    "## get the total area of settlementand allocate it to the dwellings\n",
    "pd_energy_apart= pd.read_csv('raw/1_dwelling_data.csv', sep=',', encoding='ISO-8859–1')\n",
    "\n",
    "#merge the dwelling data with the heat demand per settlement\n",
    "pd_energy_apart=pd.merge(pd_energy_apart,pd_energy_settlement,left_on=['Settlment id'],right_on=['Settlement ID'])\n",
    "\n",
    "pd_energy_apart['heatdemand_building']=pd_energy_apart.groupby(['building id'],as_index=False)['heatdemand'].transform('mean')\n",
    "pd_energy_apart['Building total apartment area']=pd_energy_apart.groupby([\n",
    "    'building id'],as_index=False)['Dwelling area'].transform('sum')\n",
    "pd_energy_apart['heatdemand_m2']=pd_energy_apart['heatdemand_building']/pd_energy_apart['Building total apartment area']*5\n",
    "pd_energy_apart=pd_energy_apart.drop(['Unnamed: 0','Unnamed: 0.1','Building total apartment area_y'],axis=1)\n",
    "\n",
    "# get the heatdemand per apartment\n",
    "\n",
    "pd_energy_apart['heatdemand_final_kWh']=0.28*pd_energy_apart['heatdemand_m2']*pd_energy_apart['Dwelling area']\n",
    "pd.DataFrame.to_csv(pd_energy_apart,'postprocessing/2b_energy/2_energy_demand_final.csv',sep=',', encoding='ISO-8859–1')\n",
    "pd_energy_apart"
   ]
  },
  {
   "cell_type": "markdown",
   "metadata": {},
   "source": [
    "#### Attach the energy source <a id='source'></a>"
   ]
  },
  {
   "cell_type": "markdown",
   "metadata": {},
   "source": [
    "<p style='color:blue'> USER INPUT NEEDED: <a href=\"https://docs.google.com/spreadsheets/d/1viAxbRDI8qwE4RVF9LEO8MrN89zV4Y7WYTqQZ0eatTE/edit#gid=1766015530\">Change the strategy no. based on Forum Thun Srategies</a></p>"
   ]
  },
  {
   "cell_type": "code",
   "execution_count": null,
   "metadata": {
    "scrolled": true
   },
   "outputs": [],
   "source": [
    "## attach the heating source and multiply the demand with relevant energy source footprint\n",
    "pd_partners_EGID_energy = pd.read_csv('raw/raw_partner_files/Partner_EGID_coordinates_'+str(Strategy_no)+'.csv', delimiter=',', \n",
    "                              error_bad_lines=False, encoding='ISO-8859–1')[['Settlement ID','heat_source','impact_kwh']]\n",
    "pd_energy_apart= pd.read_csv('postprocessing/2b_energy/2_energy_demand_final.csv', delimiter=',', \n",
    "                              error_bad_lines=False, encoding='ISO-8859–1')\n",
    "\n",
    "pd_energy_apart_fp=pd.merge(pd_energy_apart,pd_partners_EGID_energy,on=['Settlement ID'])\n",
    "\n",
    "pd_energy_apart_fp['total_energy_fp']=pd_energy_apart_fp['heatdemand_final_kWh']*pd_energy_apart_fp['impact_kwh']\n",
    "\n",
    "pd.DataFrame.to_csv(pd_energy_apart_fp,'postprocessing/2b_energy/2_energy_apartment_footprint.csv')\n",
    "pd_energy_apart_fp"
   ]
  },
  {
   "cell_type": "code",
   "execution_count": null,
   "metadata": {},
   "outputs": [],
   "source": [
    "pd_energy_apart_fp.groupby(['heat_source'], as_index=False)['total_energy_fp'].mean()"
   ]
  },
  {
   "cell_type": "code",
   "execution_count": null,
   "metadata": {},
   "outputs": [],
   "source": [
    "pd_energy_apart_fp[['total_energy_fp']].median()"
   ]
  },
  {
   "cell_type": "markdown",
   "metadata": {},
   "source": [
    "### 3.b. Warm water based footprint<a id=\"ww\"></a>\n",
    "\n",
    "<a href=\"#toc-energy\">back</a>"
   ]
  },
  {
   "cell_type": "code",
   "execution_count": null,
   "metadata": {},
   "outputs": [],
   "source": [
    "## attach he warm water requirements from the partner data\n",
    "\n"
   ]
  },
  {
   "cell_type": "code",
   "execution_count": null,
   "metadata": {},
   "outputs": [],
   "source": [
    "## estimate the warm water requirement based on the occupants\n",
    "\n"
   ]
  },
  {
   "cell_type": "code",
   "execution_count": null,
   "metadata": {},
   "outputs": [],
   "source": [
    "## covert to the apartment data based on the occupants\n",
    "\n"
   ]
  },
  {
   "cell_type": "code",
   "execution_count": null,
   "metadata": {},
   "outputs": [],
   "source": [
    "## get the energy footprint (apartment) - - multiply based on warmwater source \n"
   ]
  },
  {
   "cell_type": "markdown",
   "metadata": {},
   "source": [
    "## 4. Integrate all the three footprints<a id=\"total_impacts\"></a>\n",
    "\n",
    "<a href=\"#toc-main\">back</a>"
   ]
  },
  {
   "cell_type": "code",
   "execution_count": null,
   "metadata": {},
   "outputs": [],
   "source": [
    "import pandas as pd\n",
    "pd_occupant_footprint = pd.read_csv('postprocessing/1a_consumption/res_hhlca.csv',sep=',')\n",
    "pd_material_footprint = pd.read_csv('postprocessing/2a_material/2_material_apartment_footprint.csv',sep=',')\n",
    "pd_energy_footprint = pd.read_csv('postprocessing/2b_energy/2_energy_apartment_footprint.csv',sep=',')\n",
    "\n",
    "\n",
    "pd_final = pd.merge(pd_occupant_footprint[['timestep', 'dwelling_id', 'dwelling_size', 'hhid', \n",
    "                                          'char_nopers','food_all','housing_all','transport_all','total_occupant_footprint']],\n",
    "                    pd_material_footprint[['Time step', 'Dwelling id', 'Dwelling room', 'Dwelling area', 'Dwelling rent', \n",
    "                                           'building id', 'Settlment id', 'Street address', 'post code', \n",
    "                                           'city', 'canton', 'Building Construction year','total_material_fp_year']],\n",
    "                    left_on=['timestep','dwelling_id'],\n",
    "                    right_on=['Time step','Dwelling id'])\n",
    "\n",
    "pd_final=pd.merge(pd_final,pd_energy_footprint[['Time step','Dwelling id','heat_source','Building total apartment area','total_energy_fp']],\n",
    "                  on=['Time step','Dwelling id'])\n",
    "\n",
    "pd_final = pd_final.drop(['Time step','Dwelling id','Dwelling area'],axis=1)\n",
    "\n",
    "pd_final = pd_final[['timestep', 'dwelling_id',  'hhid', 'char_nopers',  \n",
    "            'dwelling_size','Dwelling room', 'Dwelling rent', \n",
    "            'building id', 'Settlment id', 'Street address', 'post code', 'city', 'canton', \n",
    "            'heat_source', 'Building Construction year','Building total apartment area', \n",
    "                     'food_all','housing_all','transport_all',\n",
    "            'total_occupant_footprint','total_material_fp_year', 'total_energy_fp']]\n",
    "\n",
    "\n",
    "pd.DataFrame.to_csv(pd_final,'postprocessing/4_all_footprints_'+str(Strategy_no)+'.csv',sep=',')\n",
    "pd_final"
   ]
  },
  {
   "cell_type": "code",
   "execution_count": null,
   "metadata": {},
   "outputs": [],
   "source": [
    "pd_final[['total_occupant_footprint','total_material_fp_year', 'total_energy_fp']].median()"
   ]
  },
  {
   "cell_type": "code",
   "execution_count": null,
   "metadata": {},
   "outputs": [],
   "source": [
    "# for all strategies\n",
    "# for i in [0,1,2,3,4]:\n",
    "#     pd_final=pd.read_csv('postprocessing/4_all_footprints_'+str(i)+'.csv')\n",
    "pd_final.groupby(['dwelling_id'], as_index=False).mean()"
   ]
  },
  {
   "cell_type": "code",
   "execution_count": null,
   "metadata": {},
   "outputs": [],
   "source": [
    "pd_final.groupby(['heat_source'], as_index=False)['total_energy_fp'].mean()"
   ]
  },
  {
   "cell_type": "code",
   "execution_count": null,
   "metadata": {},
   "outputs": [],
   "source": [
    "# for all strategies\n",
    "# for i in [0,1,2,3,4]:\n",
    "#     pd_final=pd.read_csv('postprocessing/4_all_footprints_'+str(i)+'.csv')      \n",
    "pd_final.groupby(['char_nopers'], as_index=False)['total_occupant_footprint'].mean()"
   ]
  },
  {
   "cell_type": "code",
   "execution_count": null,
   "metadata": {},
   "outputs": [],
   "source": [
    "pd_occupant_energy_out = pd_final.groupby(['char_nopers'], as_index=False)['total_energy_fp'].mean()\n",
    "pd_occupant_energy_out"
   ]
  },
  {
   "cell_type": "code",
   "execution_count": null,
   "metadata": {},
   "outputs": [],
   "source": [
    "plt.plot(list(pd_occupant_energy_out['char_nopers']),list(pd_occupant_energy_out['total_energy_fp']), 'ro')"
   ]
  },
  {
   "cell_type": "code",
   "execution_count": null,
   "metadata": {},
   "outputs": [],
   "source": [
    "pd_construction = pd_final.groupby(['Building Construction year'], as_index=False)['total_material_fp_year'].mean()\n",
    "pd_construction"
   ]
  },
  {
   "cell_type": "code",
   "execution_count": null,
   "metadata": {},
   "outputs": [],
   "source": [
    "plt.plot(list(pd_construction['Building Construction year'])[:-2],list(pd_construction['total_material_fp_year'])[:-2], 'ro')"
   ]
  },
  {
   "cell_type": "code",
   "execution_count": null,
   "metadata": {},
   "outputs": [],
   "source": []
  }
 ],
 "metadata": {
  "kernelspec": {
   "display_name": "Python [conda env:integration-building-model]",
   "language": "python",
   "name": "conda-env-integration-building-model-py"
  },
  "language_info": {
   "codemirror_mode": {
    "name": "ipython",
    "version": 3
   },
   "file_extension": ".py",
   "mimetype": "text/x-python",
   "name": "python",
   "nbconvert_exporter": "python",
   "pygments_lexer": "ipython3",
   "version": "3.8.5"
  }
 },
 "nbformat": 4,
 "nbformat_minor": 2
}
